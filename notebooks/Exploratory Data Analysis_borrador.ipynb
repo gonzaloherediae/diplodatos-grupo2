{
 "cells": [
  {
   "cell_type": "code",
   "execution_count": 41,
   "id": "c5d7cf39",
   "metadata": {},
   "outputs": [],
   "source": [
    "# Operaciones\n",
    "import pandas as pd\n",
    "import numpy as np\n",
    "import math\n",
    "\n",
    "# Visualizacion\n",
    "import matplotlib.pyplot as plt\n",
    "import seaborn as sns\n"
   ]
  },
  {
   "cell_type": "code",
   "execution_count": 54,
   "id": "e355f734",
   "metadata": {
    "scrolled": true,
    "tags": []
   },
   "outputs": [
    {
     "name": "stdout",
     "output_type": "stream",
     "text": [
      "SHAPE: (41188, 21)\n"
     ]
    },
    {
     "data": {
      "text/html": [
       "<div>\n",
       "<style scoped>\n",
       "    .dataframe tbody tr th:only-of-type {\n",
       "        vertical-align: middle;\n",
       "    }\n",
       "\n",
       "    .dataframe tbody tr th {\n",
       "        vertical-align: top;\n",
       "    }\n",
       "\n",
       "    .dataframe thead th {\n",
       "        text-align: right;\n",
       "    }\n",
       "</style>\n",
       "<table border=\"1\" class=\"dataframe\">\n",
       "  <thead>\n",
       "    <tr style=\"text-align: right;\">\n",
       "      <th></th>\n",
       "      <th>age</th>\n",
       "      <th>job</th>\n",
       "      <th>marital</th>\n",
       "      <th>education</th>\n",
       "      <th>default</th>\n",
       "      <th>housing</th>\n",
       "      <th>loan</th>\n",
       "      <th>contact</th>\n",
       "      <th>month</th>\n",
       "      <th>day_of_week</th>\n",
       "      <th>...</th>\n",
       "      <th>campaign</th>\n",
       "      <th>pdays</th>\n",
       "      <th>previous</th>\n",
       "      <th>poutcome</th>\n",
       "      <th>emp.var.rate</th>\n",
       "      <th>cons.price.idx</th>\n",
       "      <th>cons.conf.idx</th>\n",
       "      <th>euribor3m</th>\n",
       "      <th>nr.employed</th>\n",
       "      <th>y</th>\n",
       "    </tr>\n",
       "  </thead>\n",
       "  <tbody>\n",
       "    <tr>\n",
       "      <th>0</th>\n",
       "      <td>56</td>\n",
       "      <td>housemaid</td>\n",
       "      <td>married</td>\n",
       "      <td>basic.4y</td>\n",
       "      <td>no</td>\n",
       "      <td>no</td>\n",
       "      <td>no</td>\n",
       "      <td>telephone</td>\n",
       "      <td>may</td>\n",
       "      <td>mon</td>\n",
       "      <td>...</td>\n",
       "      <td>1</td>\n",
       "      <td>999</td>\n",
       "      <td>0</td>\n",
       "      <td>nonexistent</td>\n",
       "      <td>1.1</td>\n",
       "      <td>93.994</td>\n",
       "      <td>-36.4</td>\n",
       "      <td>4.857</td>\n",
       "      <td>5191.0</td>\n",
       "      <td>no</td>\n",
       "    </tr>\n",
       "    <tr>\n",
       "      <th>1</th>\n",
       "      <td>57</td>\n",
       "      <td>services</td>\n",
       "      <td>married</td>\n",
       "      <td>high.school</td>\n",
       "      <td>unknown</td>\n",
       "      <td>no</td>\n",
       "      <td>no</td>\n",
       "      <td>telephone</td>\n",
       "      <td>may</td>\n",
       "      <td>mon</td>\n",
       "      <td>...</td>\n",
       "      <td>1</td>\n",
       "      <td>999</td>\n",
       "      <td>0</td>\n",
       "      <td>nonexistent</td>\n",
       "      <td>1.1</td>\n",
       "      <td>93.994</td>\n",
       "      <td>-36.4</td>\n",
       "      <td>4.857</td>\n",
       "      <td>5191.0</td>\n",
       "      <td>no</td>\n",
       "    </tr>\n",
       "    <tr>\n",
       "      <th>2</th>\n",
       "      <td>37</td>\n",
       "      <td>services</td>\n",
       "      <td>married</td>\n",
       "      <td>high.school</td>\n",
       "      <td>no</td>\n",
       "      <td>yes</td>\n",
       "      <td>no</td>\n",
       "      <td>telephone</td>\n",
       "      <td>may</td>\n",
       "      <td>mon</td>\n",
       "      <td>...</td>\n",
       "      <td>1</td>\n",
       "      <td>999</td>\n",
       "      <td>0</td>\n",
       "      <td>nonexistent</td>\n",
       "      <td>1.1</td>\n",
       "      <td>93.994</td>\n",
       "      <td>-36.4</td>\n",
       "      <td>4.857</td>\n",
       "      <td>5191.0</td>\n",
       "      <td>no</td>\n",
       "    </tr>\n",
       "    <tr>\n",
       "      <th>3</th>\n",
       "      <td>40</td>\n",
       "      <td>admin.</td>\n",
       "      <td>married</td>\n",
       "      <td>basic.6y</td>\n",
       "      <td>no</td>\n",
       "      <td>no</td>\n",
       "      <td>no</td>\n",
       "      <td>telephone</td>\n",
       "      <td>may</td>\n",
       "      <td>mon</td>\n",
       "      <td>...</td>\n",
       "      <td>1</td>\n",
       "      <td>999</td>\n",
       "      <td>0</td>\n",
       "      <td>nonexistent</td>\n",
       "      <td>1.1</td>\n",
       "      <td>93.994</td>\n",
       "      <td>-36.4</td>\n",
       "      <td>4.857</td>\n",
       "      <td>5191.0</td>\n",
       "      <td>no</td>\n",
       "    </tr>\n",
       "    <tr>\n",
       "      <th>4</th>\n",
       "      <td>56</td>\n",
       "      <td>services</td>\n",
       "      <td>married</td>\n",
       "      <td>high.school</td>\n",
       "      <td>no</td>\n",
       "      <td>no</td>\n",
       "      <td>yes</td>\n",
       "      <td>telephone</td>\n",
       "      <td>may</td>\n",
       "      <td>mon</td>\n",
       "      <td>...</td>\n",
       "      <td>1</td>\n",
       "      <td>999</td>\n",
       "      <td>0</td>\n",
       "      <td>nonexistent</td>\n",
       "      <td>1.1</td>\n",
       "      <td>93.994</td>\n",
       "      <td>-36.4</td>\n",
       "      <td>4.857</td>\n",
       "      <td>5191.0</td>\n",
       "      <td>no</td>\n",
       "    </tr>\n",
       "  </tbody>\n",
       "</table>\n",
       "<p>5 rows × 21 columns</p>\n",
       "</div>"
      ],
      "text/plain": [
       "   age        job  marital    education  default housing loan    contact  \\\n",
       "0   56  housemaid  married     basic.4y       no      no   no  telephone   \n",
       "1   57   services  married  high.school  unknown      no   no  telephone   \n",
       "2   37   services  married  high.school       no     yes   no  telephone   \n",
       "3   40     admin.  married     basic.6y       no      no   no  telephone   \n",
       "4   56   services  married  high.school       no      no  yes  telephone   \n",
       "\n",
       "  month day_of_week  ...  campaign  pdays  previous     poutcome emp.var.rate  \\\n",
       "0   may         mon  ...         1    999         0  nonexistent          1.1   \n",
       "1   may         mon  ...         1    999         0  nonexistent          1.1   \n",
       "2   may         mon  ...         1    999         0  nonexistent          1.1   \n",
       "3   may         mon  ...         1    999         0  nonexistent          1.1   \n",
       "4   may         mon  ...         1    999         0  nonexistent          1.1   \n",
       "\n",
       "   cons.price.idx  cons.conf.idx  euribor3m  nr.employed   y  \n",
       "0          93.994          -36.4      4.857       5191.0  no  \n",
       "1          93.994          -36.4      4.857       5191.0  no  \n",
       "2          93.994          -36.4      4.857       5191.0  no  \n",
       "3          93.994          -36.4      4.857       5191.0  no  \n",
       "4          93.994          -36.4      4.857       5191.0  no  \n",
       "\n",
       "[5 rows x 21 columns]"
      ]
     },
     "execution_count": 54,
     "metadata": {},
     "output_type": "execute_result"
    }
   ],
   "source": [
    "# Leer data\n",
    "df = pd.read_csv('../data.csv', sep=';')\n",
    "# Obtener cantidad de filas y cols\n",
    "print('SHAPE:', df.shape)\n",
    "# Obtener primeros cinco registros\n",
    "df.head()"
   ]
  },
  {
   "cell_type": "code",
   "execution_count": 43,
   "id": "cbaf50aa",
   "metadata": {},
   "outputs": [
    {
     "name": "stdout",
     "output_type": "stream",
     "text": [
      "<class 'pandas.core.frame.DataFrame'>\n",
      "RangeIndex: 41188 entries, 0 to 41187\n",
      "Data columns (total 21 columns):\n",
      " #   Column          Non-Null Count  Dtype  \n",
      "---  ------          --------------  -----  \n",
      " 0   age             41188 non-null  int64  \n",
      " 1   job             41188 non-null  object \n",
      " 2   marital         41188 non-null  object \n",
      " 3   education       41188 non-null  object \n",
      " 4   default         41188 non-null  object \n",
      " 5   housing         41188 non-null  object \n",
      " 6   loan            41188 non-null  object \n",
      " 7   contact         41188 non-null  object \n",
      " 8   month           41188 non-null  object \n",
      " 9   day_of_week     41188 non-null  object \n",
      " 10  duration        41188 non-null  int64  \n",
      " 11  campaign        41188 non-null  int64  \n",
      " 12  pdays           41188 non-null  int64  \n",
      " 13  previous        41188 non-null  int64  \n",
      " 14  poutcome        41188 non-null  object \n",
      " 15  emp.var.rate    41188 non-null  float64\n",
      " 16  cons.price.idx  41188 non-null  float64\n",
      " 17  cons.conf.idx   41188 non-null  float64\n",
      " 18  euribor3m       41188 non-null  float64\n",
      " 19  nr.employed     41188 non-null  float64\n",
      " 20  y               41188 non-null  object \n",
      "dtypes: float64(5), int64(5), object(11)\n",
      "memory usage: 6.6+ MB\n"
     ]
    }
   ],
   "source": [
    "# Obtener data types de las cols\n",
    "df.info()"
   ]
  },
  {
   "cell_type": "code",
   "execution_count": 35,
   "id": "b258390b",
   "metadata": {},
   "outputs": [
    {
     "data": {
      "text/html": [
       "<div>\n",
       "<style scoped>\n",
       "    .dataframe tbody tr th:only-of-type {\n",
       "        vertical-align: middle;\n",
       "    }\n",
       "\n",
       "    .dataframe tbody tr th {\n",
       "        vertical-align: top;\n",
       "    }\n",
       "\n",
       "    .dataframe thead th {\n",
       "        text-align: right;\n",
       "    }\n",
       "</style>\n",
       "<table border=\"1\" class=\"dataframe\">\n",
       "  <thead>\n",
       "    <tr style=\"text-align: right;\">\n",
       "      <th></th>\n",
       "      <th>age</th>\n",
       "      <th>duration</th>\n",
       "      <th>campaign</th>\n",
       "      <th>pdays</th>\n",
       "      <th>previous</th>\n",
       "      <th>emp.var.rate</th>\n",
       "      <th>cons.price.idx</th>\n",
       "      <th>cons.conf.idx</th>\n",
       "      <th>euribor3m</th>\n",
       "      <th>nr.employed</th>\n",
       "    </tr>\n",
       "  </thead>\n",
       "  <tbody>\n",
       "    <tr>\n",
       "      <th>count</th>\n",
       "      <td>41188.00000</td>\n",
       "      <td>41188.000000</td>\n",
       "      <td>41188.000000</td>\n",
       "      <td>41188.000000</td>\n",
       "      <td>41188.000000</td>\n",
       "      <td>41188.000000</td>\n",
       "      <td>41188.000000</td>\n",
       "      <td>41188.000000</td>\n",
       "      <td>41188.000000</td>\n",
       "      <td>41188.000000</td>\n",
       "    </tr>\n",
       "    <tr>\n",
       "      <th>mean</th>\n",
       "      <td>40.02406</td>\n",
       "      <td>258.285010</td>\n",
       "      <td>2.567593</td>\n",
       "      <td>962.475454</td>\n",
       "      <td>0.172963</td>\n",
       "      <td>0.081886</td>\n",
       "      <td>93.575664</td>\n",
       "      <td>-40.502600</td>\n",
       "      <td>3.621291</td>\n",
       "      <td>5167.035911</td>\n",
       "    </tr>\n",
       "    <tr>\n",
       "      <th>std</th>\n",
       "      <td>10.42125</td>\n",
       "      <td>259.279249</td>\n",
       "      <td>2.770014</td>\n",
       "      <td>186.910907</td>\n",
       "      <td>0.494901</td>\n",
       "      <td>1.570960</td>\n",
       "      <td>0.578840</td>\n",
       "      <td>4.628198</td>\n",
       "      <td>1.734447</td>\n",
       "      <td>72.251528</td>\n",
       "    </tr>\n",
       "    <tr>\n",
       "      <th>min</th>\n",
       "      <td>17.00000</td>\n",
       "      <td>0.000000</td>\n",
       "      <td>1.000000</td>\n",
       "      <td>0.000000</td>\n",
       "      <td>0.000000</td>\n",
       "      <td>-3.400000</td>\n",
       "      <td>92.201000</td>\n",
       "      <td>-50.800000</td>\n",
       "      <td>0.634000</td>\n",
       "      <td>4963.600000</td>\n",
       "    </tr>\n",
       "    <tr>\n",
       "      <th>25%</th>\n",
       "      <td>32.00000</td>\n",
       "      <td>102.000000</td>\n",
       "      <td>1.000000</td>\n",
       "      <td>999.000000</td>\n",
       "      <td>0.000000</td>\n",
       "      <td>-1.800000</td>\n",
       "      <td>93.075000</td>\n",
       "      <td>-42.700000</td>\n",
       "      <td>1.344000</td>\n",
       "      <td>5099.100000</td>\n",
       "    </tr>\n",
       "    <tr>\n",
       "      <th>50%</th>\n",
       "      <td>38.00000</td>\n",
       "      <td>180.000000</td>\n",
       "      <td>2.000000</td>\n",
       "      <td>999.000000</td>\n",
       "      <td>0.000000</td>\n",
       "      <td>1.100000</td>\n",
       "      <td>93.749000</td>\n",
       "      <td>-41.800000</td>\n",
       "      <td>4.857000</td>\n",
       "      <td>5191.000000</td>\n",
       "    </tr>\n",
       "    <tr>\n",
       "      <th>75%</th>\n",
       "      <td>47.00000</td>\n",
       "      <td>319.000000</td>\n",
       "      <td>3.000000</td>\n",
       "      <td>999.000000</td>\n",
       "      <td>0.000000</td>\n",
       "      <td>1.400000</td>\n",
       "      <td>93.994000</td>\n",
       "      <td>-36.400000</td>\n",
       "      <td>4.961000</td>\n",
       "      <td>5228.100000</td>\n",
       "    </tr>\n",
       "    <tr>\n",
       "      <th>max</th>\n",
       "      <td>98.00000</td>\n",
       "      <td>4918.000000</td>\n",
       "      <td>56.000000</td>\n",
       "      <td>999.000000</td>\n",
       "      <td>7.000000</td>\n",
       "      <td>1.400000</td>\n",
       "      <td>94.767000</td>\n",
       "      <td>-26.900000</td>\n",
       "      <td>5.045000</td>\n",
       "      <td>5228.100000</td>\n",
       "    </tr>\n",
       "  </tbody>\n",
       "</table>\n",
       "</div>"
      ],
      "text/plain": [
       "               age      duration      campaign         pdays      previous  \\\n",
       "count  41188.00000  41188.000000  41188.000000  41188.000000  41188.000000   \n",
       "mean      40.02406    258.285010      2.567593    962.475454      0.172963   \n",
       "std       10.42125    259.279249      2.770014    186.910907      0.494901   \n",
       "min       17.00000      0.000000      1.000000      0.000000      0.000000   \n",
       "25%       32.00000    102.000000      1.000000    999.000000      0.000000   \n",
       "50%       38.00000    180.000000      2.000000    999.000000      0.000000   \n",
       "75%       47.00000    319.000000      3.000000    999.000000      0.000000   \n",
       "max       98.00000   4918.000000     56.000000    999.000000      7.000000   \n",
       "\n",
       "       emp.var.rate  cons.price.idx  cons.conf.idx     euribor3m   nr.employed  \n",
       "count  41188.000000    41188.000000   41188.000000  41188.000000  41188.000000  \n",
       "mean       0.081886       93.575664     -40.502600      3.621291   5167.035911  \n",
       "std        1.570960        0.578840       4.628198      1.734447     72.251528  \n",
       "min       -3.400000       92.201000     -50.800000      0.634000   4963.600000  \n",
       "25%       -1.800000       93.075000     -42.700000      1.344000   5099.100000  \n",
       "50%        1.100000       93.749000     -41.800000      4.857000   5191.000000  \n",
       "75%        1.400000       93.994000     -36.400000      4.961000   5228.100000  \n",
       "max        1.400000       94.767000     -26.900000      5.045000   5228.100000  "
      ]
     },
     "execution_count": 35,
     "metadata": {},
     "output_type": "execute_result"
    }
   ],
   "source": [
    "# Obtener datos descriptivos\n",
    "df.describe()"
   ]
  },
  {
   "cell_type": "markdown",
   "id": "b5c6ceff-4d22-4554-aef1-cec83cd34d76",
   "metadata": {},
   "source": [
    "## GRAFICOS PARA CONOCIMIENTO DE VARIABLES"
   ]
  },
  {
   "cell_type": "markdown",
   "id": "70311844-81c5-4088-a422-e21b1be1fc49",
   "metadata": {},
   "source": [
    "### Graficos de categorias bancarias"
   ]
  },
  {
   "cell_type": "code",
   "execution_count": 90,
   "id": "7ae96cb8-dd5d-4c88-9ccd-17e0074c298a",
   "metadata": {},
   "outputs": [
    {
     "data": {
      "text/plain": [
       "<AxesSubplot:xlabel='housing', ylabel='count'>"
      ]
     },
     "execution_count": 90,
     "metadata": {},
     "output_type": "execute_result"
    },
    {
     "data": {
      "image/png": "[encoded data removed]",
      "text/plain": [
       "<Figure size 1440x1440 with 8 Axes>"
      ]
     },
     "metadata": {
      "needs_background": "light"
     },
     "output_type": "display_data"
    }
   ],
   "source": [
    "# 4 filas y 2 columnas\n",
    "fig, axs = plt.subplots(nrows=4,ncols=2, figsize=(20,20))\n",
    "\n",
    "# Age - edad\n",
    "sns.histplot(data=df, x='age', kde=True, ax=axs[0,0])\n",
    "sns.boxplot(data=df, x='age', showfliers=False, ax=axs[0,1])\n",
    "\n",
    "# Job - trabajo\n",
    "sns.countplot(data=df, x='job', ax=axs[1,0]) # cambiar rotacion de xlabel\n",
    "\n",
    "# Marital - estado civil\n",
    "sns.countplot(data=df, x='marital', ax=axs[1,1])\n",
    "\n",
    "# Education - educacion\n",
    "sns.countplot(data=df, x='education', ax=axs[2,0])\n",
    "\n",
    "# Default - Moroso\n",
    "sns.countplot(data=df, x='default', ax=axs[2,1])\n",
    "\n",
    "# Loan - Prestamo\n",
    "sns.countplot(data=df, x='loan', ax=axs[3,0])\n",
    "\n",
    "# Housing - Hipoteca?\n",
    "sns.countplot(data=df, x='housing', ax=axs[3,1])"
   ]
  },
  {
   "cell_type": "markdown",
   "id": "68f0c375-ef20-4a63-a17f-082dbbb78e3b",
   "metadata": {},
   "source": [
    "### Graficos de variables de contacto"
   ]
  },
  {
   "cell_type": "code",
   "execution_count": 91,
   "id": "0ae42a86-fc93-45a4-aa43-31820d1ff0a1",
   "metadata": {},
   "outputs": [
    {
     "data": {
      "text/plain": [
       "<AxesSubplot:xlabel='day_of_week', ylabel='count'>"
      ]
     },
     "execution_count": 91,
     "metadata": {},
     "output_type": "execute_result"
    },
    {
     "data": {
      "image/png": "[encoded data removed]",
      "text/plain": [
       "<Figure size 1440x1440 with 6 Axes>"
      ]
     },
     "metadata": {
      "needs_background": "light"
     },
     "output_type": "display_data"
    }
   ],
   "source": [
    "fig, axs = plt.subplots(nrows=3,ncols=2, figsize=(20,20))\n",
    "\n",
    "# Contact - contacto\n",
    "sns.countplot(data=df, x='contact', ax=axs[0,0])\n",
    "\n",
    "# Month - mes\n",
    "sns.countplot(data=df, x='month', ax=axs[0,1])\n",
    "\n",
    "# Duration - Duracion\n",
    "sns.histplot(data=df, x='duration', bins=100, kde=True, ax=axs[1,0])\n",
    "sns.boxplot(data=df, x='duration', showfliers=False, ax=axs[1,1]).set(xlabel='Duartion sin outliers') # Se grafica sin outliers, ya que, se pueden ver en el histograma\n",
    "\n",
    "# Day of week - Dia de contacto\n",
    "sns.countplot(data=df, x='day_of_week', ax=axs[2,0])"
   ]
  },
  {
   "cell_type": "markdown",
   "id": "18e0e367-1ac8-4596-ad21-94575a19d35c",
   "metadata": {},
   "source": [
    "### Graficos de variables de campaña"
   ]
  },
  {
   "cell_type": "code",
   "execution_count": 110,
   "id": "461645a7-3fdc-4a6d-bc98-9891f859fcc9",
   "metadata": {},
   "outputs": [
    {
     "data": {
      "text/plain": [
       "<AxesSubplot:xlabel='previous', ylabel='count'>"
      ]
     },
     "execution_count": 110,
     "metadata": {},
     "output_type": "execute_result"
    },
    {
     "data": {
      "image/png": "[encoded data removed]",
      "text/plain": [
       "<Figure size 1440x1440 with 4 Axes>"
      ]
     },
     "metadata": {
      "needs_background": "light"
     },
     "output_type": "display_data"
    }
   ],
   "source": [
    "fig, axs = plt.subplots(nrows=2,ncols=2, figsize=(20,20))\n",
    "\n",
    "# Campaign - Campaña\n",
    "sns.countplot(data=df, x='campaign', ax=axs[0,0])\n",
    "\n",
    "# Poutcome - Exito previo?\n",
    "sns.countplot(data=df, x='poutcome',ax=axs[0,1])\n",
    "\n",
    "# Pdays - Dias\n",
    "sns.histplot(data=df, x='pdays', kde=True, ax=axs[1,0])\n",
    "\n",
    "# Previous - Previo\n",
    "sns.countplot(data=df, x='previous',ax=axs[1,1])"
   ]
  },
  {
   "cell_type": "code",
   "execution_count": 72,
   "id": "c710bb38-20f8-4f8e-8820-cbd1885304f6",
   "metadata": {
    "tags": []
   },
   "outputs": [
    {
     "data": {
      "text/plain": [
       "age               0\n",
       "job               0\n",
       "marital           0\n",
       "education         0\n",
       "default           0\n",
       "housing           0\n",
       "loan              0\n",
       "contact           0\n",
       "month             0\n",
       "day_of_week       0\n",
       "duration          0\n",
       "campaign          0\n",
       "pdays             0\n",
       "previous          0\n",
       "poutcome          0\n",
       "emp.var.rate      0\n",
       "cons.price.idx    0\n",
       "cons.conf.idx     0\n",
       "euribor3m         0\n",
       "nr.employed       0\n",
       "y                 0\n",
       "dtype: int64"
      ]
     },
     "execution_count": 72,
     "metadata": {},
     "output_type": "execute_result"
    }
   ],
   "source": [
    "# Cantidad de valores nulos por columna\n",
    "df.isna().sum()"
   ]
  },
  {
   "cell_type": "markdown",
   "id": "376118fc-0914-4d0e-8f42-c3f82a7309d3",
   "metadata": {},
   "source": [
    "## Preguntas e hipótesis\n",
    "\n",
    "1. ¿Es la edad un factor significativo?\n",
    "2. ¿Influye el nivel de educación?\n",
    "3. ¿Entre qué variables hay correlación?\n",
    "4. ¿Cómo se encuentra la situacion crediticia de los clientes?\n",
    "5. ¿Un aumento de euribor3m, aumenta la probabilidad de adquisición de plazo fijo?\n",
    "6. ¿Le convenía al usuario adquirir un plazo fijo?"
   ]
  },
  {
   "cell_type": "code",
   "execution_count": 55,
   "id": "c8e8c9a7",
   "metadata": {},
   "outputs": [],
   "source": [
    "# Transformo la variable target para calcular P-Value\n",
    "def factorize_y(x):\n",
    "    if x == 'no':\n",
    "        return 0\n",
    "    else:\n",
    "        return 1\n",
    "    \n",
    "df['y'] = df.apply(lambda x: factorize_y(x['y']), axis=1)"
   ]
  },
  {
   "cell_type": "markdown",
   "id": "a4212524-dcb0-43aa-a095-4934fea2f593",
   "metadata": {},
   "source": [
    "### 1. ¿Es la edad un factor significativo? \n",
    "H0 = La edad no es un factor significativo a la hora de predecir si el cliente adquirira un plazo fijo.\\\n",
    "H1 = La edad si es un factor significativo a la hora de predecir si el cliente adquirira un plazo fijo.\n",
    "\n",
    "Se va a utilizar P-Value para determinar si la edad es un valor significativo. Si P-Value <= .05, se rechaza la hipotesis nula.\n",
    "Y si P-Valu > .05, no se rechaza la hipotesis nula. En el caso que P-Value < .05, NO significa que la hipotesis alternativa sea\n",
    "95% probable."
   ]
  },
  {
   "cell_type": "code",
   "execution_count": 46,
   "id": "b5be6008",
   "metadata": {},
   "outputs": [
    {
     "name": "stdout",
     "output_type": "stream",
     "text": [
      "Coeficiente de pearson:  0.030398803040003714\n",
      "P-Value:  0.00000000068\n"
     ]
    }
   ],
   "source": [
    "from scipy import stats\n",
    "\n",
    "r, p = stats.pearsonr(df.age, df.y)\n",
    "print('Coeficiente de pearson: ', r)\n",
    "print('P-Value: ', format(p, '.11f'))"
   ]
  },
  {
   "cell_type": "code",
   "execution_count": 33,
   "id": "7379e5b1-a1a5-4848-b10b-e54fa317382c",
   "metadata": {},
   "outputs": [],
   "source": [
    "sample = df.sample(10000).copy()"
   ]
  },
  {
   "cell_type": "code",
   "execution_count": 37,
   "id": "654ea40f-4950-4e4f-9f17-528f47b2844a",
   "metadata": {},
   "outputs": [
    {
     "name": "stdout",
     "output_type": "stream",
     "text": [
      "La media de edad de la muestra es 39.9074\n",
      "La desviacion estandar de edad de la poblacion es 10.421249980934048\n",
      "El intervalo de confiaza es 39.9074 +/-0.204\n"
     ]
    }
   ],
   "source": [
    "print('La media de edad de la muestra es', sample.age.mean())\n",
    "print('La desviacion estandar de edad de la poblacion es', df.age.std())\n",
    "ci = round(1.96 * (df.age.std()/np.sqrt(10000)), 3)\n",
    "print(f'El intervalo de confiaza es {sample.age.mean()} +/-{ci}')"
   ]
  },
  {
   "cell_type": "code",
   "execution_count": 85,
   "id": "9ea105fb-99b6-4652-a757-7410ef6bbe96",
   "metadata": {},
   "outputs": [
    {
     "data": {
      "text/html": [
       "<div>\n",
       "<style scoped>\n",
       "    .dataframe tbody tr th:only-of-type {\n",
       "        vertical-align: middle;\n",
       "    }\n",
       "\n",
       "    .dataframe tbody tr th {\n",
       "        vertical-align: top;\n",
       "    }\n",
       "\n",
       "    .dataframe thead th {\n",
       "        text-align: right;\n",
       "    }\n",
       "</style>\n",
       "<table border=\"1\" class=\"dataframe\">\n",
       "  <thead>\n",
       "    <tr style=\"text-align: right;\">\n",
       "      <th></th>\n",
       "      <th>age</th>\n",
       "      <th>si</th>\n",
       "      <th>no</th>\n",
       "      <th>total</th>\n",
       "      <th>probabilidad_si</th>\n",
       "      <th>probabilidad_no</th>\n",
       "    </tr>\n",
       "  </thead>\n",
       "  <tbody>\n",
       "    <tr>\n",
       "      <th>0</th>\n",
       "      <td>17</td>\n",
       "      <td>2.0</td>\n",
       "      <td>3.0</td>\n",
       "      <td>5</td>\n",
       "      <td>0.400000</td>\n",
       "      <td>0.600000</td>\n",
       "    </tr>\n",
       "    <tr>\n",
       "      <th>1</th>\n",
       "      <td>18</td>\n",
       "      <td>12.0</td>\n",
       "      <td>16.0</td>\n",
       "      <td>28</td>\n",
       "      <td>0.428571</td>\n",
       "      <td>0.571429</td>\n",
       "    </tr>\n",
       "    <tr>\n",
       "      <th>2</th>\n",
       "      <td>19</td>\n",
       "      <td>20.0</td>\n",
       "      <td>22.0</td>\n",
       "      <td>42</td>\n",
       "      <td>0.476190</td>\n",
       "      <td>0.523810</td>\n",
       "    </tr>\n",
       "    <tr>\n",
       "      <th>3</th>\n",
       "      <td>20</td>\n",
       "      <td>23.0</td>\n",
       "      <td>42.0</td>\n",
       "      <td>65</td>\n",
       "      <td>0.353846</td>\n",
       "      <td>0.646154</td>\n",
       "    </tr>\n",
       "    <tr>\n",
       "      <th>4</th>\n",
       "      <td>21</td>\n",
       "      <td>29.0</td>\n",
       "      <td>73.0</td>\n",
       "      <td>102</td>\n",
       "      <td>0.284314</td>\n",
       "      <td>0.715686</td>\n",
       "    </tr>\n",
       "    <tr>\n",
       "      <th>...</th>\n",
       "      <td>...</td>\n",
       "      <td>...</td>\n",
       "      <td>...</td>\n",
       "      <td>...</td>\n",
       "      <td>...</td>\n",
       "      <td>...</td>\n",
       "    </tr>\n",
       "    <tr>\n",
       "      <th>73</th>\n",
       "      <td>91</td>\n",
       "      <td>0.0</td>\n",
       "      <td>2.0</td>\n",
       "      <td>2</td>\n",
       "      <td>0.000000</td>\n",
       "      <td>0.000000</td>\n",
       "    </tr>\n",
       "    <tr>\n",
       "      <th>74</th>\n",
       "      <td>92</td>\n",
       "      <td>3.0</td>\n",
       "      <td>1.0</td>\n",
       "      <td>4</td>\n",
       "      <td>0.750000</td>\n",
       "      <td>0.250000</td>\n",
       "    </tr>\n",
       "    <tr>\n",
       "      <th>75</th>\n",
       "      <td>94</td>\n",
       "      <td>0.0</td>\n",
       "      <td>1.0</td>\n",
       "      <td>1</td>\n",
       "      <td>0.000000</td>\n",
       "      <td>0.000000</td>\n",
       "    </tr>\n",
       "    <tr>\n",
       "      <th>76</th>\n",
       "      <td>95</td>\n",
       "      <td>0.0</td>\n",
       "      <td>1.0</td>\n",
       "      <td>1</td>\n",
       "      <td>0.000000</td>\n",
       "      <td>0.000000</td>\n",
       "    </tr>\n",
       "    <tr>\n",
       "      <th>77</th>\n",
       "      <td>98</td>\n",
       "      <td>2.0</td>\n",
       "      <td>0.0</td>\n",
       "      <td>2</td>\n",
       "      <td>1.000000</td>\n",
       "      <td>0.000000</td>\n",
       "    </tr>\n",
       "  </tbody>\n",
       "</table>\n",
       "<p>78 rows × 6 columns</p>\n",
       "</div>"
      ],
      "text/plain": [
       "    age    si    no  total  probabilidad_si  probabilidad_no\n",
       "0    17   2.0   3.0      5         0.400000         0.600000\n",
       "1    18  12.0  16.0     28         0.428571         0.571429\n",
       "2    19  20.0  22.0     42         0.476190         0.523810\n",
       "3    20  23.0  42.0     65         0.353846         0.646154\n",
       "4    21  29.0  73.0    102         0.284314         0.715686\n",
       "..  ...   ...   ...    ...              ...              ...\n",
       "73   91   0.0   2.0      2         0.000000         0.000000\n",
       "74   92   3.0   1.0      4         0.750000         0.250000\n",
       "75   94   0.0   1.0      1         0.000000         0.000000\n",
       "76   95   0.0   1.0      1         0.000000         0.000000\n",
       "77   98   2.0   0.0      2         1.000000         0.000000\n",
       "\n",
       "[78 rows x 6 columns]"
      ]
     },
     "execution_count": 85,
     "metadata": {},
     "output_type": "execute_result"
    }
   ],
   "source": [
    "edad = pd.DataFrame({'si': df.loc[df.y == 1].groupby('age').y.agg('count'), 'no': df.loc[df.y == 0].groupby('age').y.agg('count'),'total':df.groupby('age').y.agg('count')})\n",
    "edad.fillna(0)\n",
    "edad.reset_index(level=0, inplace=True)\n",
    "def get_probs(x):\n",
    "    return x['si'] / x['total']\n",
    "edad['probabilidad_si'] = edad.apply(lambda x: get_probs(x), axis=1)\n",
    "edad['probabilidad_no'] = 1 - edad['probabilidad_si']\n",
    "edad.fillna(0)"
   ]
  },
  {
   "cell_type": "code",
   "execution_count": 90,
   "id": "c4b702d2-5aa1-4872-a435-b7e46513edcc",
   "metadata": {},
   "outputs": [
    {
     "data": {
      "text/plain": [
       "<AxesSubplot:xlabel='age', ylabel='probabilidad_no'>"
      ]
     },
     "execution_count": 90,
     "metadata": {},
     "output_type": "execute_result"
    },
    {
     "data": {
      "image/png": "[encoded data removed]",
      "text/plain": [
       "<Figure size 1440x720 with 2 Axes>"
      ]
     },
     "metadata": {
      "needs_background": "light"
     },
     "output_type": "display_data"
    }
   ],
   "source": [
    "fig, axs = plt.subplots(nrows=2,ncols=1, figsize=(20,10))\n",
    "sns.pointplot(x='age', y='probabilidad_si', data=edad, join=False, palette='Set2', ax=axs[0])\n",
    "sns.pointplot(x='age', y='probabilidad_no', data=edad, join=False, palette='Set2', ax=axs[1])"
   ]
  },
  {
   "cell_type": "markdown",
   "id": "6d6d39fa-81c4-4277-9b7b-2a81b508ac94",
   "metadata": {},
   "source": [
    "**Respuesta**\\\n",
    "P-Value < .001. Por lo que, se rechaza la hipotesis nula (H0). Además, se puede decir que estamos 95% seguros de que la media de edad es 39.9074 +/-0.204. \\\n",
    "Cuando la edad > 58 años, la probabilidad de adquirir un plazo fijo aumenta de manera considerable."
   ]
  },
  {
   "cell_type": "markdown",
   "id": "f4b2ee64-ce8c-4e19-a2a9-1bf22b934ef4",
   "metadata": {},
   "source": [
    "### 2. ¿Influye el nivel de educación?\n",
    "Hipotesis a responder: \\\n",
    "H0: El nivel educativo no afecta la adquisición de plazo fijos.\\\n",
    "H1: El nivel educativo si afecta la adquisicion de plazo fijos."
   ]
  },
  {
   "cell_type": "code",
   "execution_count": 56,
   "id": "543bc8f2-78ad-4206-98ff-6b350532269c",
   "metadata": {},
   "outputs": [
    {
     "data": {
      "text/plain": [
       "primario         12513\n",
       "universitario    12168\n",
       "secundario        9515\n",
       "terciario         5243\n",
       "desconocido       1731\n",
       "ninguno             18\n",
       "Name: education, dtype: int64"
      ]
     },
     "execution_count": 56,
     "metadata": {},
     "output_type": "execute_result"
    }
   ],
   "source": [
    "df.education.replace({'unknown': 'desconocido',\n",
    "            'illiterate': 'ninguno',\n",
    "            'basic.4y': 'primario',\n",
    "           'basic.6y':'primario',\n",
    "           'basic.9y': 'primario',\n",
    "           'high.school':'secundario',\n",
    "           'professional.course':'terciario',\n",
    "           'university.degree':'universitario'}, inplace=True)\n",
    "df.education.value_counts()"
   ]
  },
  {
   "cell_type": "code",
   "execution_count": 71,
   "id": "0c36ffb2",
   "metadata": {
    "tags": []
   },
   "outputs": [
    {
     "data": {
      "text/plain": [
       "<AxesSubplot:xlabel='education', ylabel='count'>"
      ]
     },
     "execution_count": 71,
     "metadata": {},
     "output_type": "execute_result"
    },
    {
     "data": {
      "image/png": "[encoded data removed]",
      "text/plain": [
       "<Figure size 936x360 with 1 Axes>"
      ]
     },
     "metadata": {
      "needs_background": "light"
     },
     "output_type": "display_data"
    }
   ],
   "source": [
    "fig, axs = plt.subplots(figsize=(13,5))\n",
    "sns.countplot(data=df, x='education', hue='y')"
   ]
  },
  {
   "cell_type": "code",
   "execution_count": 72,
   "id": "176de2fb",
   "metadata": {
    "scrolled": true,
    "tags": []
   },
   "outputs": [
    {
     "data": {
      "text/html": [
       "<div>\n",
       "<style scoped>\n",
       "    .dataframe tbody tr th:only-of-type {\n",
       "        vertical-align: middle;\n",
       "    }\n",
       "\n",
       "    .dataframe tbody tr th {\n",
       "        vertical-align: top;\n",
       "    }\n",
       "\n",
       "    .dataframe thead th {\n",
       "        text-align: right;\n",
       "    }\n",
       "</style>\n",
       "<table border=\"1\" class=\"dataframe\">\n",
       "  <thead>\n",
       "    <tr style=\"text-align: right;\">\n",
       "      <th></th>\n",
       "      <th>education</th>\n",
       "      <th>si</th>\n",
       "      <th>no</th>\n",
       "      <th>total</th>\n",
       "      <th>probabilidad_si</th>\n",
       "      <th>probabilidad_no</th>\n",
       "    </tr>\n",
       "  </thead>\n",
       "  <tbody>\n",
       "    <tr>\n",
       "      <th>0</th>\n",
       "      <td>desconocido</td>\n",
       "      <td>251</td>\n",
       "      <td>1480</td>\n",
       "      <td>1731</td>\n",
       "      <td>0.145003</td>\n",
       "      <td>0.854997</td>\n",
       "    </tr>\n",
       "    <tr>\n",
       "      <th>1</th>\n",
       "      <td>ninguno</td>\n",
       "      <td>4</td>\n",
       "      <td>14</td>\n",
       "      <td>18</td>\n",
       "      <td>0.222222</td>\n",
       "      <td>0.777778</td>\n",
       "    </tr>\n",
       "    <tr>\n",
       "      <th>2</th>\n",
       "      <td>primario</td>\n",
       "      <td>1089</td>\n",
       "      <td>11424</td>\n",
       "      <td>12513</td>\n",
       "      <td>0.087029</td>\n",
       "      <td>0.912971</td>\n",
       "    </tr>\n",
       "    <tr>\n",
       "      <th>3</th>\n",
       "      <td>secundario</td>\n",
       "      <td>1031</td>\n",
       "      <td>8484</td>\n",
       "      <td>9515</td>\n",
       "      <td>0.108355</td>\n",
       "      <td>0.891645</td>\n",
       "    </tr>\n",
       "    <tr>\n",
       "      <th>4</th>\n",
       "      <td>terciario</td>\n",
       "      <td>595</td>\n",
       "      <td>4648</td>\n",
       "      <td>5243</td>\n",
       "      <td>0.113485</td>\n",
       "      <td>0.886515</td>\n",
       "    </tr>\n",
       "    <tr>\n",
       "      <th>5</th>\n",
       "      <td>universitario</td>\n",
       "      <td>1670</td>\n",
       "      <td>10498</td>\n",
       "      <td>12168</td>\n",
       "      <td>0.137245</td>\n",
       "      <td>0.862755</td>\n",
       "    </tr>\n",
       "  </tbody>\n",
       "</table>\n",
       "</div>"
      ],
      "text/plain": [
       "       education    si     no  total  probabilidad_si  probabilidad_no\n",
       "0    desconocido   251   1480   1731         0.145003         0.854997\n",
       "1        ninguno     4     14     18         0.222222         0.777778\n",
       "2       primario  1089  11424  12513         0.087029         0.912971\n",
       "3     secundario  1031   8484   9515         0.108355         0.891645\n",
       "4      terciario   595   4648   5243         0.113485         0.886515\n",
       "5  universitario  1670  10498  12168         0.137245         0.862755"
      ]
     },
     "execution_count": 72,
     "metadata": {},
     "output_type": "execute_result"
    }
   ],
   "source": [
    "education = pd.DataFrame({'si': df.loc[df.y == 1].groupby('education').y.agg('count'), 'no': df.loc[df.y == 0].groupby('education').y.agg('count'),'total':df.groupby('education').y.agg('count')})\n",
    "def get_probs(x):\n",
    "    return x['si'] / x['total']\n",
    "education.reset_index(level=0, inplace=True)\n",
    "education['probabilidad_si'] = education.apply(lambda x: get_probs(x), axis=1)\n",
    "education['probabilidad_no'] = 1 - education['probabilidad_si']\n",
    "education"
   ]
  },
  {
   "cell_type": "code",
   "execution_count": 82,
   "id": "c130cb42-3f23-46c7-8c55-4a2b2f825c03",
   "metadata": {},
   "outputs": [
    {
     "data": {
      "text/plain": [
       "<AxesSubplot:xlabel='education', ylabel='probabilidad_no'>"
      ]
     },
     "execution_count": 82,
     "metadata": {},
     "output_type": "execute_result"
    },
    {
     "data": {
      "image/png": "[encoded data removed]",
      "text/plain": [
       "<Figure size 936x360 with 2 Axes>"
      ]
     },
     "metadata": {
      "needs_background": "light"
     },
     "output_type": "display_data"
    }
   ],
   "source": [
    "fig, axs = plt.subplots(nrows=1,ncols=2, figsize=(13,5))\n",
    "sns.pointplot(x='education', y='probabilidad_si', data=education, join=False, palette='Set2', ax=axs[0])\n",
    "sns.pointplot(x='education', y='probabilidad_no', data=education, join=False, palette='Set2', ax=axs[1])"
   ]
  },
  {
   "cell_type": "markdown",
   "id": "5c1b7c2b-b7e1-4a58-a044-98f6aecc6456",
   "metadata": {},
   "source": [
    "**Respuesta** \\\n",
    "Como se puede apreciar, el nivel de educacion de los usuarios si influye en la adquisición de plazos fijos. A medida que aumenta el nivel educativo, aumentan las probabilidades de adquirir un plazo fijo"
   ]
  },
  {
   "cell_type": "markdown",
   "id": "846ee1e1-8152-4d8f-b072-ea403241d1ef",
   "metadata": {},
   "source": [
    "### 3. ¿Entre qué variables hay correlación?\n",
    "**TODO**"
   ]
  },
  {
   "cell_type": "markdown",
   "id": "33b76f0b-badd-4597-8356-f30aa3a64417",
   "metadata": {},
   "source": [
    "### 4. ¿Cómo se encuentra la situacion crediticia de los clientes?\n",
    "En esta pregunta, se intentara encontrar la relación entre las 3 variables bancarias (loan - housing - default). Es interesante, ya que, se va a poder apreciar si la persona es responsable cuando adquiere obligaciones financieras."
   ]
  },
  {
   "cell_type": "code",
   "execution_count": 95,
   "id": "521ba1ae-1681-4b13-9e1e-2841687dc562",
   "metadata": {},
   "outputs": [
    {
     "data": {
      "text/plain": [
       "no         32588\n",
       "unknown     8597\n",
       "yes            3\n",
       "Name: default, dtype: int64"
      ]
     },
     "execution_count": 95,
     "metadata": {},
     "output_type": "execute_result"
    }
   ],
   "source": [
    "df.default.value_counts()"
   ]
  },
  {
   "cell_type": "code",
   "execution_count": 97,
   "id": "61f3503e-d2b8-49fd-9f34-9b2500fe1b12",
   "metadata": {},
   "outputs": [
    {
     "data": {
      "text/html": [
       "<div>\n",
       "<style scoped>\n",
       "    .dataframe tbody tr th:only-of-type {\n",
       "        vertical-align: middle;\n",
       "    }\n",
       "\n",
       "    .dataframe tbody tr th {\n",
       "        vertical-align: top;\n",
       "    }\n",
       "\n",
       "    .dataframe thead th {\n",
       "        text-align: right;\n",
       "    }\n",
       "</style>\n",
       "<table border=\"1\" class=\"dataframe\">\n",
       "  <thead>\n",
       "    <tr style=\"text-align: right;\">\n",
       "      <th></th>\n",
       "      <th>age</th>\n",
       "      <th>job</th>\n",
       "      <th>marital</th>\n",
       "      <th>education</th>\n",
       "      <th>default</th>\n",
       "      <th>housing</th>\n",
       "      <th>loan</th>\n",
       "      <th>contact</th>\n",
       "      <th>month</th>\n",
       "      <th>day_of_week</th>\n",
       "      <th>...</th>\n",
       "      <th>pdays</th>\n",
       "      <th>previous</th>\n",
       "      <th>poutcome</th>\n",
       "      <th>emp.var.rate</th>\n",
       "      <th>cons.price.idx</th>\n",
       "      <th>cons.conf.idx</th>\n",
       "      <th>euribor3m</th>\n",
       "      <th>nr.employed</th>\n",
       "      <th>y</th>\n",
       "      <th>productos_financieros</th>\n",
       "    </tr>\n",
       "  </thead>\n",
       "  <tbody>\n",
       "    <tr>\n",
       "      <th>0</th>\n",
       "      <td>56</td>\n",
       "      <td>housemaid</td>\n",
       "      <td>married</td>\n",
       "      <td>primario</td>\n",
       "      <td>no</td>\n",
       "      <td>no</td>\n",
       "      <td>no</td>\n",
       "      <td>telephone</td>\n",
       "      <td>may</td>\n",
       "      <td>mon</td>\n",
       "      <td>...</td>\n",
       "      <td>999</td>\n",
       "      <td>0</td>\n",
       "      <td>nonexistent</td>\n",
       "      <td>1.1</td>\n",
       "      <td>93.994</td>\n",
       "      <td>-36.4</td>\n",
       "      <td>4.857</td>\n",
       "      <td>5191.0</td>\n",
       "      <td>0</td>\n",
       "      <td>no</td>\n",
       "    </tr>\n",
       "    <tr>\n",
       "      <th>1</th>\n",
       "      <td>57</td>\n",
       "      <td>services</td>\n",
       "      <td>married</td>\n",
       "      <td>secundario</td>\n",
       "      <td>unknown</td>\n",
       "      <td>no</td>\n",
       "      <td>no</td>\n",
       "      <td>telephone</td>\n",
       "      <td>may</td>\n",
       "      <td>mon</td>\n",
       "      <td>...</td>\n",
       "      <td>999</td>\n",
       "      <td>0</td>\n",
       "      <td>nonexistent</td>\n",
       "      <td>1.1</td>\n",
       "      <td>93.994</td>\n",
       "      <td>-36.4</td>\n",
       "      <td>4.857</td>\n",
       "      <td>5191.0</td>\n",
       "      <td>0</td>\n",
       "      <td>no</td>\n",
       "    </tr>\n",
       "    <tr>\n",
       "      <th>2</th>\n",
       "      <td>37</td>\n",
       "      <td>services</td>\n",
       "      <td>married</td>\n",
       "      <td>secundario</td>\n",
       "      <td>no</td>\n",
       "      <td>yes</td>\n",
       "      <td>no</td>\n",
       "      <td>telephone</td>\n",
       "      <td>may</td>\n",
       "      <td>mon</td>\n",
       "      <td>...</td>\n",
       "      <td>999</td>\n",
       "      <td>0</td>\n",
       "      <td>nonexistent</td>\n",
       "      <td>1.1</td>\n",
       "      <td>93.994</td>\n",
       "      <td>-36.4</td>\n",
       "      <td>4.857</td>\n",
       "      <td>5191.0</td>\n",
       "      <td>0</td>\n",
       "      <td>yes</td>\n",
       "    </tr>\n",
       "    <tr>\n",
       "      <th>3</th>\n",
       "      <td>40</td>\n",
       "      <td>admin.</td>\n",
       "      <td>married</td>\n",
       "      <td>primario</td>\n",
       "      <td>no</td>\n",
       "      <td>no</td>\n",
       "      <td>no</td>\n",
       "      <td>telephone</td>\n",
       "      <td>may</td>\n",
       "      <td>mon</td>\n",
       "      <td>...</td>\n",
       "      <td>999</td>\n",
       "      <td>0</td>\n",
       "      <td>nonexistent</td>\n",
       "      <td>1.1</td>\n",
       "      <td>93.994</td>\n",
       "      <td>-36.4</td>\n",
       "      <td>4.857</td>\n",
       "      <td>5191.0</td>\n",
       "      <td>0</td>\n",
       "      <td>no</td>\n",
       "    </tr>\n",
       "    <tr>\n",
       "      <th>4</th>\n",
       "      <td>56</td>\n",
       "      <td>services</td>\n",
       "      <td>married</td>\n",
       "      <td>secundario</td>\n",
       "      <td>no</td>\n",
       "      <td>no</td>\n",
       "      <td>yes</td>\n",
       "      <td>telephone</td>\n",
       "      <td>may</td>\n",
       "      <td>mon</td>\n",
       "      <td>...</td>\n",
       "      <td>999</td>\n",
       "      <td>0</td>\n",
       "      <td>nonexistent</td>\n",
       "      <td>1.1</td>\n",
       "      <td>93.994</td>\n",
       "      <td>-36.4</td>\n",
       "      <td>4.857</td>\n",
       "      <td>5191.0</td>\n",
       "      <td>0</td>\n",
       "      <td>yes</td>\n",
       "    </tr>\n",
       "    <tr>\n",
       "      <th>...</th>\n",
       "      <td>...</td>\n",
       "      <td>...</td>\n",
       "      <td>...</td>\n",
       "      <td>...</td>\n",
       "      <td>...</td>\n",
       "      <td>...</td>\n",
       "      <td>...</td>\n",
       "      <td>...</td>\n",
       "      <td>...</td>\n",
       "      <td>...</td>\n",
       "      <td>...</td>\n",
       "      <td>...</td>\n",
       "      <td>...</td>\n",
       "      <td>...</td>\n",
       "      <td>...</td>\n",
       "      <td>...</td>\n",
       "      <td>...</td>\n",
       "      <td>...</td>\n",
       "      <td>...</td>\n",
       "      <td>...</td>\n",
       "      <td>...</td>\n",
       "    </tr>\n",
       "    <tr>\n",
       "      <th>41183</th>\n",
       "      <td>73</td>\n",
       "      <td>retired</td>\n",
       "      <td>married</td>\n",
       "      <td>terciario</td>\n",
       "      <td>no</td>\n",
       "      <td>yes</td>\n",
       "      <td>no</td>\n",
       "      <td>cellular</td>\n",
       "      <td>nov</td>\n",
       "      <td>fri</td>\n",
       "      <td>...</td>\n",
       "      <td>999</td>\n",
       "      <td>0</td>\n",
       "      <td>nonexistent</td>\n",
       "      <td>-1.1</td>\n",
       "      <td>94.767</td>\n",
       "      <td>-50.8</td>\n",
       "      <td>1.028</td>\n",
       "      <td>4963.6</td>\n",
       "      <td>1</td>\n",
       "      <td>yes</td>\n",
       "    </tr>\n",
       "    <tr>\n",
       "      <th>41184</th>\n",
       "      <td>46</td>\n",
       "      <td>blue-collar</td>\n",
       "      <td>married</td>\n",
       "      <td>terciario</td>\n",
       "      <td>no</td>\n",
       "      <td>no</td>\n",
       "      <td>no</td>\n",
       "      <td>cellular</td>\n",
       "      <td>nov</td>\n",
       "      <td>fri</td>\n",
       "      <td>...</td>\n",
       "      <td>999</td>\n",
       "      <td>0</td>\n",
       "      <td>nonexistent</td>\n",
       "      <td>-1.1</td>\n",
       "      <td>94.767</td>\n",
       "      <td>-50.8</td>\n",
       "      <td>1.028</td>\n",
       "      <td>4963.6</td>\n",
       "      <td>0</td>\n",
       "      <td>no</td>\n",
       "    </tr>\n",
       "    <tr>\n",
       "      <th>41185</th>\n",
       "      <td>56</td>\n",
       "      <td>retired</td>\n",
       "      <td>married</td>\n",
       "      <td>universitario</td>\n",
       "      <td>no</td>\n",
       "      <td>yes</td>\n",
       "      <td>no</td>\n",
       "      <td>cellular</td>\n",
       "      <td>nov</td>\n",
       "      <td>fri</td>\n",
       "      <td>...</td>\n",
       "      <td>999</td>\n",
       "      <td>0</td>\n",
       "      <td>nonexistent</td>\n",
       "      <td>-1.1</td>\n",
       "      <td>94.767</td>\n",
       "      <td>-50.8</td>\n",
       "      <td>1.028</td>\n",
       "      <td>4963.6</td>\n",
       "      <td>0</td>\n",
       "      <td>yes</td>\n",
       "    </tr>\n",
       "    <tr>\n",
       "      <th>41186</th>\n",
       "      <td>44</td>\n",
       "      <td>technician</td>\n",
       "      <td>married</td>\n",
       "      <td>terciario</td>\n",
       "      <td>no</td>\n",
       "      <td>no</td>\n",
       "      <td>no</td>\n",
       "      <td>cellular</td>\n",
       "      <td>nov</td>\n",
       "      <td>fri</td>\n",
       "      <td>...</td>\n",
       "      <td>999</td>\n",
       "      <td>0</td>\n",
       "      <td>nonexistent</td>\n",
       "      <td>-1.1</td>\n",
       "      <td>94.767</td>\n",
       "      <td>-50.8</td>\n",
       "      <td>1.028</td>\n",
       "      <td>4963.6</td>\n",
       "      <td>1</td>\n",
       "      <td>no</td>\n",
       "    </tr>\n",
       "    <tr>\n",
       "      <th>41187</th>\n",
       "      <td>74</td>\n",
       "      <td>retired</td>\n",
       "      <td>married</td>\n",
       "      <td>terciario</td>\n",
       "      <td>no</td>\n",
       "      <td>yes</td>\n",
       "      <td>no</td>\n",
       "      <td>cellular</td>\n",
       "      <td>nov</td>\n",
       "      <td>fri</td>\n",
       "      <td>...</td>\n",
       "      <td>999</td>\n",
       "      <td>1</td>\n",
       "      <td>failure</td>\n",
       "      <td>-1.1</td>\n",
       "      <td>94.767</td>\n",
       "      <td>-50.8</td>\n",
       "      <td>1.028</td>\n",
       "      <td>4963.6</td>\n",
       "      <td>0</td>\n",
       "      <td>yes</td>\n",
       "    </tr>\n",
       "  </tbody>\n",
       "</table>\n",
       "<p>41188 rows × 22 columns</p>\n",
       "</div>"
      ],
      "text/plain": [
       "       age          job  marital      education  default housing loan  \\\n",
       "0       56    housemaid  married       primario       no      no   no   \n",
       "1       57     services  married     secundario  unknown      no   no   \n",
       "2       37     services  married     secundario       no     yes   no   \n",
       "3       40       admin.  married       primario       no      no   no   \n",
       "4       56     services  married     secundario       no      no  yes   \n",
       "...    ...          ...      ...            ...      ...     ...  ...   \n",
       "41183   73      retired  married      terciario       no     yes   no   \n",
       "41184   46  blue-collar  married      terciario       no      no   no   \n",
       "41185   56      retired  married  universitario       no     yes   no   \n",
       "41186   44   technician  married      terciario       no      no   no   \n",
       "41187   74      retired  married      terciario       no     yes   no   \n",
       "\n",
       "         contact month day_of_week  ...  pdays  previous     poutcome  \\\n",
       "0      telephone   may         mon  ...    999         0  nonexistent   \n",
       "1      telephone   may         mon  ...    999         0  nonexistent   \n",
       "2      telephone   may         mon  ...    999         0  nonexistent   \n",
       "3      telephone   may         mon  ...    999         0  nonexistent   \n",
       "4      telephone   may         mon  ...    999         0  nonexistent   \n",
       "...          ...   ...         ...  ...    ...       ...          ...   \n",
       "41183   cellular   nov         fri  ...    999         0  nonexistent   \n",
       "41184   cellular   nov         fri  ...    999         0  nonexistent   \n",
       "41185   cellular   nov         fri  ...    999         0  nonexistent   \n",
       "41186   cellular   nov         fri  ...    999         0  nonexistent   \n",
       "41187   cellular   nov         fri  ...    999         1      failure   \n",
       "\n",
       "       emp.var.rate cons.price.idx  cons.conf.idx  euribor3m  nr.employed  y  \\\n",
       "0               1.1         93.994          -36.4      4.857       5191.0  0   \n",
       "1               1.1         93.994          -36.4      4.857       5191.0  0   \n",
       "2               1.1         93.994          -36.4      4.857       5191.0  0   \n",
       "3               1.1         93.994          -36.4      4.857       5191.0  0   \n",
       "4               1.1         93.994          -36.4      4.857       5191.0  0   \n",
       "...             ...            ...            ...        ...          ... ..   \n",
       "41183          -1.1         94.767          -50.8      1.028       4963.6  1   \n",
       "41184          -1.1         94.767          -50.8      1.028       4963.6  0   \n",
       "41185          -1.1         94.767          -50.8      1.028       4963.6  0   \n",
       "41186          -1.1         94.767          -50.8      1.028       4963.6  1   \n",
       "41187          -1.1         94.767          -50.8      1.028       4963.6  0   \n",
       "\n",
       "       productos_financieros  \n",
       "0                         no  \n",
       "1                         no  \n",
       "2                        yes  \n",
       "3                         no  \n",
       "4                        yes  \n",
       "...                      ...  \n",
       "41183                    yes  \n",
       "41184                     no  \n",
       "41185                    yes  \n",
       "41186                     no  \n",
       "41187                    yes  \n",
       "\n",
       "[41188 rows x 22 columns]"
      ]
     },
     "execution_count": 97,
     "metadata": {},
     "output_type": "execute_result"
    }
   ],
   "source": [
    "def productos_financieros(x):\n",
    "    if x.loan == 'yes' or x.housing == 'yes':\n",
    "        return 'yes'\n",
    "    elif x.loan == 'unknown' or x.housing == 'unknown':\n",
    "        return 'unknown'\n",
    "    else:\n",
    "        return 'no'\n",
    "df['productos_financieros'] = df.apply(lambda x: productos_financieros(x), axis=1)"
   ]
  },
  {
   "cell_type": "code",
   "execution_count": 111,
   "id": "370b0ab3-a3c8-407e-acfc-e7aa7a92c936",
   "metadata": {
    "tags": []
   },
   "outputs": [
    {
     "data": {
      "text/plain": [
       "[Text(0.5, 0, 'morosos')]"
      ]
     },
     "execution_count": 111,
     "metadata": {},
     "output_type": "execute_result"
    },
    {
     "data": {
      "image/png": "[encoded data removed]",
      "text/plain": [
       "<Figure size 432x288 with 1 Axes>"
      ]
     },
     "metadata": {
      "needs_background": "light"
     },
     "output_type": "display_data"
    }
   ],
   "source": [
    "# Grafico que muestra la cantidad de gente que tiene productos financieros\n",
    "sns.countplot(data=df.loc[df.productos_financieros == 'yes'], x='default', hue='y').set(xlabel='morosos')"
   ]
  },
  {
   "cell_type": "markdown",
   "id": "d611c43c-38dd-4e58-94e4-c8aff99147c4",
   "metadata": {},
   "source": [
    "**Respuesta**\\\n",
    "Se puede observar que la gente mayoria de la gente que contrajo obligaciones financieras, no poseen moras."
   ]
  },
  {
   "cell_type": "markdown",
   "id": "6ead69e7-5d22-4814-bfdf-64ef78a4d545",
   "metadata": {},
   "source": [
    "### 5. ¿Un aumento de euribor3m, aumenta la probabilidad de adquisición de plazo fijo?"
   ]
  },
  {
   "cell_type": "code",
   "execution_count": 120,
   "id": "bd5307f2-cb77-49bf-a431-fb91100f3e5d",
   "metadata": {},
   "outputs": [
    {
     "data": {
      "text/plain": [
       "<AxesSubplot:xlabel='euribor3m'>"
      ]
     },
     "execution_count": 120,
     "metadata": {},
     "output_type": "execute_result"
    },
    {
     "data": {
      "image/png": "[encoded data removed]",
      "text/plain": [
       "<Figure size 432x288 with 1 Axes>"
      ]
     },
     "metadata": {
      "needs_background": "light"
     },
     "output_type": "display_data"
    }
   ],
   "source": [
    "sns.boxplot(data=df, x='euribor3m')"
   ]
  },
  {
   "cell_type": "code",
   "execution_count": 147,
   "id": "83f1026e-8184-414c-ac28-3d640925c26f",
   "metadata": {},
   "outputs": [],
   "source": [
    "df['euribor3m'] = df['euribor3m'].astype('float64')"
   ]
  },
  {
   "cell_type": "code",
   "execution_count": 155,
   "id": "5d8d9e1e-3f27-4b99-a39a-94bec4262e1c",
   "metadata": {
    "tags": []
   },
   "outputs": [],
   "source": [
    "def group_euribor3m(x):\n",
    "    try:\n",
    "        if x.euribor3m >= 0 and x.euribor3m < 1:\n",
    "            return '[0-1]'\n",
    "        elif x.euribor3m >= 1 and x.euribor3m < 2:\n",
    "            return '[1-2]'\n",
    "        elif x.euribor3m >= 2 and x.euribor3m < 3:\n",
    "            return '[2-3]'\n",
    "        elif x.euribor3m >= 3 and x.euribor3m < 4:\n",
    "            return '[3-4]'\n",
    "        elif x.euribor3m >= 4 and x.euribor3m < 5:\n",
    "            return '[4-5]'\n",
    "        elif x.euribor3m >= 5 and x.euribor3m < 6:\n",
    "            return '[5-6]'\n",
    "    except:\n",
    "        print('error',x.euribor3m)\n",
    "    \n",
    "df['euribor3m_group'] = df.apply(lambda x: group_euribor3m(x), axis=1)"
   ]
  },
  {
   "cell_type": "code",
   "execution_count": 158,
   "id": "973a20d0-f154-431d-a272-ac33ad2555c1",
   "metadata": {},
   "outputs": [
    {
     "data": {
      "text/html": [
       "<div>\n",
       "<style scoped>\n",
       "    .dataframe tbody tr th:only-of-type {\n",
       "        vertical-align: middle;\n",
       "    }\n",
       "\n",
       "    .dataframe tbody tr th {\n",
       "        vertical-align: top;\n",
       "    }\n",
       "\n",
       "    .dataframe thead th {\n",
       "        text-align: right;\n",
       "    }\n",
       "</style>\n",
       "<table border=\"1\" class=\"dataframe\">\n",
       "  <thead>\n",
       "    <tr style=\"text-align: right;\">\n",
       "      <th></th>\n",
       "      <th>euribor3m_group</th>\n",
       "      <th>si</th>\n",
       "      <th>no</th>\n",
       "      <th>total</th>\n",
       "      <th>probabilidad_si</th>\n",
       "      <th>probabilidad_no</th>\n",
       "    </tr>\n",
       "  </thead>\n",
       "  <tbody>\n",
       "    <tr>\n",
       "      <th>0</th>\n",
       "      <td>[0-1]</td>\n",
       "      <td>1778</td>\n",
       "      <td>2112</td>\n",
       "      <td>3890</td>\n",
       "      <td>0.457069</td>\n",
       "      <td>0.542931</td>\n",
       "    </tr>\n",
       "    <tr>\n",
       "      <th>1</th>\n",
       "      <td>[1-2]</td>\n",
       "      <td>1523</td>\n",
       "      <td>8085</td>\n",
       "      <td>9608</td>\n",
       "      <td>0.158514</td>\n",
       "      <td>0.841486</td>\n",
       "    </tr>\n",
       "    <tr>\n",
       "      <th>2</th>\n",
       "      <td>[3-4]</td>\n",
       "      <td>1</td>\n",
       "      <td>13</td>\n",
       "      <td>14</td>\n",
       "      <td>0.071429</td>\n",
       "      <td>0.928571</td>\n",
       "    </tr>\n",
       "    <tr>\n",
       "      <th>3</th>\n",
       "      <td>[4-5]</td>\n",
       "      <td>1330</td>\n",
       "      <td>26330</td>\n",
       "      <td>27660</td>\n",
       "      <td>0.048084</td>\n",
       "      <td>0.951916</td>\n",
       "    </tr>\n",
       "    <tr>\n",
       "      <th>4</th>\n",
       "      <td>[5-6]</td>\n",
       "      <td>8</td>\n",
       "      <td>8</td>\n",
       "      <td>16</td>\n",
       "      <td>0.500000</td>\n",
       "      <td>0.500000</td>\n",
       "    </tr>\n",
       "  </tbody>\n",
       "</table>\n",
       "</div>"
      ],
      "text/plain": [
       "  euribor3m_group    si     no  total  probabilidad_si  probabilidad_no\n",
       "0           [0-1]  1778   2112   3890         0.457069         0.542931\n",
       "1           [1-2]  1523   8085   9608         0.158514         0.841486\n",
       "2           [3-4]     1     13     14         0.071429         0.928571\n",
       "3           [4-5]  1330  26330  27660         0.048084         0.951916\n",
       "4           [5-6]     8      8     16         0.500000         0.500000"
      ]
     },
     "execution_count": 158,
     "metadata": {},
     "output_type": "execute_result"
    }
   ],
   "source": [
    "euribor3m = pd.DataFrame({'si': df.loc[df.y == 1].groupby('euribor3m_group').y.agg('count'), 'no': df.loc[df.y == 0].groupby('euribor3m_group').y.agg('count'),'total':df.groupby('euribor3m_group').y.agg('count')})\n",
    "def get_probs(x):\n",
    "    return x['si'] / x['total']\n",
    "euribor3m.reset_index(level=0, inplace=True)\n",
    "euribor3m['probabilidad_si'] = euribor3m.apply(lambda x: get_probs(x), axis=1)\n",
    "euribor3m['probabilidad_no'] = 1 - euribor3m['probabilidad_si']\n",
    "euribor3m"
   ]
  },
  {
   "cell_type": "code",
   "execution_count": 160,
   "id": "6905fc0f-b8c2-4bea-b45a-017860b909f6",
   "metadata": {},
   "outputs": [
    {
     "data": {
      "text/plain": [
       "[4-5]    27660\n",
       "[1-2]     9608\n",
       "[0-1]     3890\n",
       "[5-6]       16\n",
       "[3-4]       14\n",
       "Name: euribor3m_group, dtype: int64"
      ]
     },
     "execution_count": 160,
     "metadata": {},
     "output_type": "execute_result"
    }
   ],
   "source": [
    "df.euribor3m_group.value_counts()"
   ]
  },
  {
   "cell_type": "code",
   "execution_count": 159,
   "id": "4f272f9f-62c4-45ff-8beb-2e393a6918e7",
   "metadata": {},
   "outputs": [
    {
     "data": {
      "text/plain": [
       "<AxesSubplot:xlabel='euribor3m_group', ylabel='probabilidad_no'>"
      ]
     },
     "execution_count": 159,
     "metadata": {},
     "output_type": "execute_result"
    },
    {
     "data": {
      "image/png": "[encoded data removed]",
      "text/plain": [
       "<Figure size 1440x720 with 2 Axes>"
      ]
     },
     "metadata": {
      "needs_background": "light"
     },
     "output_type": "display_data"
    }
   ],
   "source": [
    "fig, axs = plt.subplots(nrows=2,ncols=1, figsize=(20,10))\n",
    "sns.pointplot(x='euribor3m_group', y='probabilidad_si', data=euribor3m, join=False, palette='Set2', ax=axs[0])\n",
    "sns.pointplot(x='euribor3m_group', y='probabilidad_no', data=euribor3m, join=False, palette='Set2', ax=axs[1])"
   ]
  },
  {
   "cell_type": "code",
   "execution_count": 161,
   "id": "c70be9a7-aab0-423e-84ad-fb97d68e8831",
   "metadata": {},
   "outputs": [
    {
     "data": {
      "text/html": [
       "<div>\n",
       "<style scoped>\n",
       "    .dataframe tbody tr th:only-of-type {\n",
       "        vertical-align: middle;\n",
       "    }\n",
       "\n",
       "    .dataframe tbody tr th {\n",
       "        vertical-align: top;\n",
       "    }\n",
       "\n",
       "    .dataframe thead th {\n",
       "        text-align: right;\n",
       "    }\n",
       "</style>\n",
       "<table border=\"1\" class=\"dataframe\">\n",
       "  <thead>\n",
       "    <tr style=\"text-align: right;\">\n",
       "      <th></th>\n",
       "      <th>age</th>\n",
       "      <th>job</th>\n",
       "      <th>marital</th>\n",
       "      <th>education</th>\n",
       "      <th>default</th>\n",
       "      <th>housing</th>\n",
       "      <th>loan</th>\n",
       "      <th>contact</th>\n",
       "      <th>month</th>\n",
       "      <th>day_of_week</th>\n",
       "      <th>...</th>\n",
       "      <th>previous</th>\n",
       "      <th>poutcome</th>\n",
       "      <th>emp.var.rate</th>\n",
       "      <th>cons.price.idx</th>\n",
       "      <th>cons.conf.idx</th>\n",
       "      <th>euribor3m</th>\n",
       "      <th>nr.employed</th>\n",
       "      <th>y</th>\n",
       "      <th>productos_financieros</th>\n",
       "      <th>euribor3m_group</th>\n",
       "    </tr>\n",
       "  </thead>\n",
       "  <tbody>\n",
       "    <tr>\n",
       "      <th>27684</th>\n",
       "      <td>48</td>\n",
       "      <td>admin.</td>\n",
       "      <td>married</td>\n",
       "      <td>secundario</td>\n",
       "      <td>no</td>\n",
       "      <td>yes</td>\n",
       "      <td>yes</td>\n",
       "      <td>telephone</td>\n",
       "      <td>dec</td>\n",
       "      <td>fri</td>\n",
       "      <td>...</td>\n",
       "      <td>0</td>\n",
       "      <td>nonexistent</td>\n",
       "      <td>-0.2</td>\n",
       "      <td>92.756</td>\n",
       "      <td>-45.9</td>\n",
       "      <td>3.563</td>\n",
       "      <td>5176.3</td>\n",
       "      <td>0</td>\n",
       "      <td>yes</td>\n",
       "      <td>[3-4]</td>\n",
       "    </tr>\n",
       "    <tr>\n",
       "      <th>27677</th>\n",
       "      <td>32</td>\n",
       "      <td>unemployed</td>\n",
       "      <td>single</td>\n",
       "      <td>secundario</td>\n",
       "      <td>no</td>\n",
       "      <td>no</td>\n",
       "      <td>yes</td>\n",
       "      <td>telephone</td>\n",
       "      <td>nov</td>\n",
       "      <td>thu</td>\n",
       "      <td>...</td>\n",
       "      <td>0</td>\n",
       "      <td>nonexistent</td>\n",
       "      <td>-0.1</td>\n",
       "      <td>93.200</td>\n",
       "      <td>-42.0</td>\n",
       "      <td>3.879</td>\n",
       "      <td>5195.8</td>\n",
       "      <td>0</td>\n",
       "      <td>yes</td>\n",
       "      <td>[3-4]</td>\n",
       "    </tr>\n",
       "    <tr>\n",
       "      <th>27687</th>\n",
       "      <td>36</td>\n",
       "      <td>blue-collar</td>\n",
       "      <td>married</td>\n",
       "      <td>secundario</td>\n",
       "      <td>no</td>\n",
       "      <td>yes</td>\n",
       "      <td>no</td>\n",
       "      <td>cellular</td>\n",
       "      <td>dec</td>\n",
       "      <td>thu</td>\n",
       "      <td>...</td>\n",
       "      <td>0</td>\n",
       "      <td>nonexistent</td>\n",
       "      <td>-0.2</td>\n",
       "      <td>92.756</td>\n",
       "      <td>-45.9</td>\n",
       "      <td>3.329</td>\n",
       "      <td>5176.3</td>\n",
       "      <td>0</td>\n",
       "      <td>yes</td>\n",
       "      <td>[3-4]</td>\n",
       "    </tr>\n",
       "    <tr>\n",
       "      <th>27680</th>\n",
       "      <td>31</td>\n",
       "      <td>admin.</td>\n",
       "      <td>single</td>\n",
       "      <td>secundario</td>\n",
       "      <td>no</td>\n",
       "      <td>yes</td>\n",
       "      <td>no</td>\n",
       "      <td>telephone</td>\n",
       "      <td>dec</td>\n",
       "      <td>mon</td>\n",
       "      <td>...</td>\n",
       "      <td>0</td>\n",
       "      <td>nonexistent</td>\n",
       "      <td>-0.2</td>\n",
       "      <td>92.756</td>\n",
       "      <td>-45.9</td>\n",
       "      <td>3.816</td>\n",
       "      <td>5176.3</td>\n",
       "      <td>0</td>\n",
       "      <td>yes</td>\n",
       "      <td>[3-4]</td>\n",
       "    </tr>\n",
       "  </tbody>\n",
       "</table>\n",
       "<p>4 rows × 23 columns</p>\n",
       "</div>"
      ],
      "text/plain": [
       "       age          job  marital   education default housing loan    contact  \\\n",
       "27684   48       admin.  married  secundario      no     yes  yes  telephone   \n",
       "27677   32   unemployed   single  secundario      no      no  yes  telephone   \n",
       "27687   36  blue-collar  married  secundario      no     yes   no   cellular   \n",
       "27680   31       admin.   single  secundario      no     yes   no  telephone   \n",
       "\n",
       "      month day_of_week  ...  previous     poutcome  emp.var.rate  \\\n",
       "27684   dec         fri  ...         0  nonexistent          -0.2   \n",
       "27677   nov         thu  ...         0  nonexistent          -0.1   \n",
       "27687   dec         thu  ...         0  nonexistent          -0.2   \n",
       "27680   dec         mon  ...         0  nonexistent          -0.2   \n",
       "\n",
       "       cons.price.idx cons.conf.idx  euribor3m  nr.employed  y  \\\n",
       "27684          92.756         -45.9      3.563       5176.3  0   \n",
       "27677          93.200         -42.0      3.879       5195.8  0   \n",
       "27687          92.756         -45.9      3.329       5176.3  0   \n",
       "27680          92.756         -45.9      3.816       5176.3  0   \n",
       "\n",
       "       productos_financieros  euribor3m_group  \n",
       "27684                    yes            [3-4]  \n",
       "27677                    yes            [3-4]  \n",
       "27687                    yes            [3-4]  \n",
       "27680                    yes            [3-4]  \n",
       "\n",
       "[4 rows x 23 columns]"
      ]
     },
     "execution_count": 161,
     "metadata": {},
     "output_type": "execute_result"
    }
   ],
   "source": [
    "sample = df.loc[df.euribor3m_group == '[3-4]'].sample(n=4).copy()\n",
    "sample"
   ]
  },
  {
   "cell_type": "code",
   "execution_count": 167,
   "id": "b7ea57a6-f48f-4c4f-a771-a795e7325a7e",
   "metadata": {},
   "outputs": [
    {
     "name": "stdout",
     "output_type": "stream",
     "text": [
      "La media de edad de la muestra es 3.64675\n",
      "La desviacion estandar de edad de la poblacion es 1.734447404851267\n",
      "El intervalo de confiaza es 3.64675 +/-1.7\n"
     ]
    }
   ],
   "source": [
    "print('La media de edad de la muestra es', sample.euribor3m.mean())\n",
    "print('La desviacion estandar de edad de la poblacion es', df.euribor3m.std())\n",
    "ci = round(1.96 * (df.euribor3m.std()/np.sqrt(4)), 3)\n",
    "print(f'El intervalo de confiaza es {sample.euribor3m.mean()} +/-{ci}')"
   ]
  },
  {
   "cell_type": "markdown",
   "id": "46cacf0f-a82e-4b61-917f-72b0a39ec2bf",
   "metadata": {},
   "source": [
    "**Respuesta**\\\n",
    "Se puede observar que con el aumento de la tasa de interes en los bancos, no aumenta la probabilidad de adquirir un plazo fijo. El unico problema es que los rangos [3-4] y [5-6] poseen menos de 100 registros cada uno, por lo que, la probabilidad no sería muy precisa. Además en los dos rangos, previamente mencionados, la significancia estadística es muy chica, por la cantidad de registros."
   ]
  },
  {
   "cell_type": "markdown",
   "id": "8ab67394-6218-44b8-ae81-8be1e23906e8",
   "metadata": {},
   "source": [
    "### 6. ¿Le convenía al usuario adquirir un plazo fijo?\n",
    "En esta pregunta, se intentara saber si al usuario le convenía adquirir un plazo fijo o no. Esto resulta interesante, ya que, vamos a poder \"pensar\" desde el lado del usuario. \\\n",
    "Para saber si le convenia al cliente, vamos a ver si la tasa de interes que le ofrecían al cliente era mayor que la inflación (Indice de Precios del Consumidor, IPC). En caso contrario, no le conviene porque la inflación le licuaria los intereses ganados."
   ]
  },
  {
   "cell_type": "code",
   "execution_count": 178,
   "id": "c6b177a5-a7d8-4159-bcfe-5fc06322b3a2",
   "metadata": {},
   "outputs": [
    {
     "data": {
      "text/plain": [
       "<AxesSubplot:xlabel='month', ylabel='y'>"
      ]
     },
     "execution_count": 178,
     "metadata": {},
     "output_type": "execute_result"
    },
    {
     "data": {
      "image/png": "[encoded data removed]",
      "text/plain": [
       "<Figure size 432x288 with 1 Axes>"
      ]
     },
     "metadata": {
      "needs_background": "light"
     },
     "output_type": "display_data"
    }
   ],
   "source": [
    "sns.pointplot(x='month', y='y', data=df, join=False, palette='Set2', )"
   ]
  }
 ],
 "metadata": {
  "kernelspec": {
   "display_name": "Python 3",
   "language": "python",
   "name": "python3"
  },
  "language_info": {
   "codemirror_mode": {
    "name": "ipython",
    "version": 3
   },
   "file_extension": ".py",
   "mimetype": "text/x-python",
   "name": "python",
   "nbconvert_exporter": "python",
   "pygments_lexer": "ipython3",
   "version": "3.9.5"
  }
 },
 "nbformat": 4,
 "nbformat_minor": 5
}
