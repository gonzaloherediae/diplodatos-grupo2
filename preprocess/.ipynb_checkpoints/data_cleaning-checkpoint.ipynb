{
 "cells": [
  {
   "cell_type": "code",
   "execution_count": 1,
   "id": "534f6855-a5d6-44a9-9302-5263d3415a10",
   "metadata": {},
   "outputs": [],
   "source": [
    "import pandas as pd\n",
    "import numpy as np\n",
    "import matplotlib.pyplot as plt\n",
    "import seaborn as sns"
   ]
  },
  {
   "cell_type": "code",
   "execution_count": 2,
   "id": "4a818f68-2ef3-497f-92ae-227eedbcc4cd",
   "metadata": {},
   "outputs": [],
   "source": [
    "# Opción para ver todas las columnas del dataset en el notebook\n",
    "pd.set_option('display.max_columns', 50)"
   ]
  },
  {
   "cell_type": "code",
   "execution_count": 3,
   "id": "0046b20b-4787-4760-a848-ce6ceb7deec2",
   "metadata": {
    "tags": []
   },
   "outputs": [
    {
     "data": {
      "text/html": [
       "<div>\n",
       "<style scoped>\n",
       "    .dataframe tbody tr th:only-of-type {\n",
       "        vertical-align: middle;\n",
       "    }\n",
       "\n",
       "    .dataframe tbody tr th {\n",
       "        vertical-align: top;\n",
       "    }\n",
       "\n",
       "    .dataframe thead th {\n",
       "        text-align: right;\n",
       "    }\n",
       "</style>\n",
       "<table border=\"1\" class=\"dataframe\">\n",
       "  <thead>\n",
       "    <tr style=\"text-align: right;\">\n",
       "      <th></th>\n",
       "      <th>age</th>\n",
       "      <th>job</th>\n",
       "      <th>marital</th>\n",
       "      <th>education</th>\n",
       "      <th>default</th>\n",
       "      <th>housing</th>\n",
       "      <th>loan</th>\n",
       "      <th>contact</th>\n",
       "      <th>month</th>\n",
       "      <th>day_of_week</th>\n",
       "      <th>duration</th>\n",
       "      <th>campaign</th>\n",
       "      <th>pdays</th>\n",
       "      <th>previous</th>\n",
       "      <th>poutcome</th>\n",
       "      <th>emp.var.rate</th>\n",
       "      <th>cons.price.idx</th>\n",
       "      <th>cons.conf.idx</th>\n",
       "      <th>euribor3m</th>\n",
       "      <th>nr.employed</th>\n",
       "      <th>y</th>\n",
       "    </tr>\n",
       "  </thead>\n",
       "  <tbody>\n",
       "    <tr>\n",
       "      <th>0</th>\n",
       "      <td>56</td>\n",
       "      <td>housemaid</td>\n",
       "      <td>married</td>\n",
       "      <td>basic.4y</td>\n",
       "      <td>no</td>\n",
       "      <td>no</td>\n",
       "      <td>no</td>\n",
       "      <td>telephone</td>\n",
       "      <td>may</td>\n",
       "      <td>mon</td>\n",
       "      <td>261</td>\n",
       "      <td>1</td>\n",
       "      <td>999</td>\n",
       "      <td>0</td>\n",
       "      <td>nonexistent</td>\n",
       "      <td>1.1</td>\n",
       "      <td>93.994</td>\n",
       "      <td>-36.4</td>\n",
       "      <td>4.857</td>\n",
       "      <td>5191.0</td>\n",
       "      <td>no</td>\n",
       "    </tr>\n",
       "    <tr>\n",
       "      <th>1</th>\n",
       "      <td>57</td>\n",
       "      <td>services</td>\n",
       "      <td>married</td>\n",
       "      <td>high.school</td>\n",
       "      <td>unknown</td>\n",
       "      <td>no</td>\n",
       "      <td>no</td>\n",
       "      <td>telephone</td>\n",
       "      <td>may</td>\n",
       "      <td>mon</td>\n",
       "      <td>149</td>\n",
       "      <td>1</td>\n",
       "      <td>999</td>\n",
       "      <td>0</td>\n",
       "      <td>nonexistent</td>\n",
       "      <td>1.1</td>\n",
       "      <td>93.994</td>\n",
       "      <td>-36.4</td>\n",
       "      <td>4.857</td>\n",
       "      <td>5191.0</td>\n",
       "      <td>no</td>\n",
       "    </tr>\n",
       "    <tr>\n",
       "      <th>2</th>\n",
       "      <td>37</td>\n",
       "      <td>services</td>\n",
       "      <td>married</td>\n",
       "      <td>high.school</td>\n",
       "      <td>no</td>\n",
       "      <td>yes</td>\n",
       "      <td>no</td>\n",
       "      <td>telephone</td>\n",
       "      <td>may</td>\n",
       "      <td>mon</td>\n",
       "      <td>226</td>\n",
       "      <td>1</td>\n",
       "      <td>999</td>\n",
       "      <td>0</td>\n",
       "      <td>nonexistent</td>\n",
       "      <td>1.1</td>\n",
       "      <td>93.994</td>\n",
       "      <td>-36.4</td>\n",
       "      <td>4.857</td>\n",
       "      <td>5191.0</td>\n",
       "      <td>no</td>\n",
       "    </tr>\n",
       "  </tbody>\n",
       "</table>\n",
       "</div>"
      ],
      "text/plain": [
       "   age        job  marital    education  default housing loan    contact  \\\n",
       "0   56  housemaid  married     basic.4y       no      no   no  telephone   \n",
       "1   57   services  married  high.school  unknown      no   no  telephone   \n",
       "2   37   services  married  high.school       no     yes   no  telephone   \n",
       "\n",
       "  month day_of_week  duration  campaign  pdays  previous     poutcome  \\\n",
       "0   may         mon       261         1    999         0  nonexistent   \n",
       "1   may         mon       149         1    999         0  nonexistent   \n",
       "2   may         mon       226         1    999         0  nonexistent   \n",
       "\n",
       "   emp.var.rate  cons.price.idx  cons.conf.idx  euribor3m  nr.employed   y  \n",
       "0           1.1          93.994          -36.4      4.857       5191.0  no  \n",
       "1           1.1          93.994          -36.4      4.857       5191.0  no  \n",
       "2           1.1          93.994          -36.4      4.857       5191.0  no  "
      ]
     },
     "execution_count": 3,
     "metadata": {},
     "output_type": "execute_result"
    }
   ],
   "source": [
    "df = pd.read_csv('../data.csv', sep = \";\")\n",
    "df.head(3)"
   ]
  },
  {
   "cell_type": "markdown",
   "id": "1ffd059d-5061-40ff-88b0-49c25567e9de",
   "metadata": {},
   "source": [
    "# Tratado de variable educación"
   ]
  },
  {
   "cell_type": "code",
   "execution_count": 4,
   "id": "ef9181fe-88a8-4e5a-a2bd-37ccc56f1ace",
   "metadata": {},
   "outputs": [
    {
     "data": {
      "image/png": "[encoded data removed]",
      "text/plain": [
       "<Figure size 432x288 with 1 Axes>"
      ]
     },
     "metadata": {
      "needs_background": "light"
     },
     "output_type": "display_data"
    }
   ],
   "source": [
    "fig_dims = (6, 4)\n",
    "fig, ax = plt.subplots(figsize=fig_dims)\n",
    "\n",
    "category_order = [\"illiterate\", \"basic.4y\", \"basic.6y\", \n",
    "                  \"basic.9y\", \"high.school\", \"professional.course\",\n",
    "                  'university.degree', 'unknown']\n",
    "\n",
    "sns.countplot(data=df, x='education', ax=ax, order = category_order)\n",
    "plt.xticks(rotation=90)\n",
    "\n",
    "for p in ax.patches:\n",
    "    ax.text(p.get_x() + 0.015, \n",
    "            p.get_height() * 1.02, \n",
    "            'n = {0:.0f}'.format(p.get_height()), \n",
    "            color='black', rotation='horizontal', size='small')\n",
    "\n",
    "plt.show()"
   ]
  },
  {
   "cell_type": "code",
   "execution_count": 5,
   "id": "4add0cf3-72ca-42de-9639-23c4d892cbd5",
   "metadata": {},
   "outputs": [],
   "source": [
    "df.education.replace({'unknown': 'desconocido',\n",
    "            'illiterate': 'ninguno',\n",
    "            'basic.4y': 'primario',\n",
    "           'basic.6y':'primario',\n",
    "           'basic.9y': 'primario',\n",
    "           'high.school':'secundario',\n",
    "           'professional.course':'terciario',\n",
    "           'university.degree':'universitario'}, inplace=True)"
   ]
  },
  {
   "cell_type": "code",
   "execution_count": 6,
   "id": "73dd2e06-30d1-484f-9579-571543332117",
   "metadata": {},
   "outputs": [
    {
     "data": {
      "text/plain": [
       "<AxesSubplot:xlabel='education', ylabel='count'>"
      ]
     },
     "execution_count": 6,
     "metadata": {},
     "output_type": "execute_result"
    },
    {
     "data": {
      "image/png": "[encoded data removed]",
      "text/plain": [
       "<Figure size 504x360 with 1 Axes>"
      ]
     },
     "metadata": {
      "needs_background": "light"
     },
     "output_type": "display_data"
    }
   ],
   "source": [
    "fig, axs = plt.subplots(figsize=(7,5))\n",
    "sns.countplot(data=df, x='education')"
   ]
  },
  {
   "cell_type": "markdown",
   "id": "a637e542-f533-4ba4-9cbe-5803058c6b14",
   "metadata": {},
   "source": [
    "# Tratado de variables loan y housing"
   ]
  },
  {
   "cell_type": "code",
   "execution_count": 7,
   "id": "dfe61b24-e85c-4a96-9764-937f54cc52b5",
   "metadata": {},
   "outputs": [
    {
     "data": {
      "text/plain": [
       "<AxesSubplot:xlabel='housing', ylabel='count'>"
      ]
     },
     "execution_count": 7,
     "metadata": {},
     "output_type": "execute_result"
    },
    {
     "data": {
      "image/png": "[encoded data removed]",
      "text/plain": [
       "<Figure size 504x216 with 2 Axes>"
      ]
     },
     "metadata": {
      "needs_background": "light"
     },
     "output_type": "display_data"
    }
   ],
   "source": [
    "# 1 filas y 2 columnas\n",
    "fig, axs = plt.subplots(nrows=1,ncols=2, figsize=(7,3))\n",
    "\n",
    "# Loan - Prestamo\n",
    "sns.countplot(data=df, x='loan', ax=axs[0])\n",
    "\n",
    "# Housing - Hipoteca?\n",
    "sns.countplot(data=df, x='housing', ax=axs[1])"
   ]
  },
  {
   "cell_type": "code",
   "execution_count": 8,
   "id": "e94790d5-43fd-448f-a698-c5ab826a47aa",
   "metadata": {},
   "outputs": [],
   "source": [
    "def productos_financieros(x):\n",
    "    if x.loan == 'yes' or x.housing == 'yes':\n",
    "        return 'yes'\n",
    "    elif x.loan == 'unknown' or x.housing == 'unknown':\n",
    "        return 'unknown'\n",
    "    else:\n",
    "        return 'no'\n",
    "    \n",
    "# Creamos esta columna para ver si el usuario adquirio productos financieros\n",
    "df['productos_financieros'] = df.apply(lambda x: productos_financieros(x), axis=1)\n",
    "\n",
    "# Drop de columnas loan y housing\n",
    "df.drop(['loan', 'housing'], axis=1, inplace=True)"
   ]
  },
  {
   "cell_type": "code",
   "execution_count": 9,
   "id": "e30a6c13-7746-4fc2-b5ff-fedbd13f8883",
   "metadata": {},
   "outputs": [
    {
     "data": {
      "text/plain": [
       "<AxesSubplot:xlabel='productos_financieros', ylabel='count'>"
      ]
     },
     "execution_count": 9,
     "metadata": {},
     "output_type": "execute_result"
    },
    {
     "data": {
      "image/png": "[encoded data removed]",
      "text/plain": [
       "<Figure size 504x360 with 1 Axes>"
      ]
     },
     "metadata": {
      "needs_background": "light"
     },
     "output_type": "display_data"
    }
   ],
   "source": [
    "fig, axs = plt.subplots(figsize=(7,5))\n",
    "sns.countplot(data=df, x='productos_financieros')"
   ]
  },
  {
   "cell_type": "markdown",
   "id": "6fcfdbe8-3e81-4c61-8472-220435ede6f8",
   "metadata": {},
   "source": [
    "# Creación de variable contactado\n",
    "La variable \"contactado\", determina si el usuario fue previamente contactado o no. Esta conclusión se realizó, porque en la información de atributos dice que los usuarios con pdays = 999, no fueron contactados previamente."
   ]
  },
  {
   "cell_type": "code",
   "execution_count": 10,
   "id": "7bbec265-88be-49f8-bf69-d0ae56c8fd7d",
   "metadata": {},
   "outputs": [
    {
     "data": {
      "text/plain": [
       "<AxesSubplot:xlabel='pdays', ylabel='Count'>"
      ]
     },
     "execution_count": 10,
     "metadata": {},
     "output_type": "execute_result"
    },
    {
     "data": {
      "image/png": "[encoded data removed]",
      "text/plain": [
       "<Figure size 432x288 with 1 Axes>"
      ]
     },
     "metadata": {
      "needs_background": "light"
     },
     "output_type": "display_data"
    }
   ],
   "source": [
    "sns.histplot(data=df, x='pdays', kde=True)"
   ]
  },
  {
   "cell_type": "code",
   "execution_count": 11,
   "id": "a2c9f77f-a1e5-4cba-88a9-617847640229",
   "metadata": {},
   "outputs": [],
   "source": [
    "def get_contactado(x):\n",
    "    if x >= 999:\n",
    "        return 'NO'\n",
    "    else:\n",
    "        return 'SI'\n",
    "\n",
    "df['contactado'] = df.apply(lambda x: get_contactado(x['pdays']), axis=1)\n",
    "    \n",
    "# Drop de columna pdays\n",
    "df.drop('pdays', axis=1, inplace=True)"
   ]
  },
  {
   "cell_type": "code",
   "execution_count": 12,
   "id": "2ee1a639-7dbb-4ed6-8dec-c48777838531",
   "metadata": {},
   "outputs": [
    {
     "data": {
      "text/plain": [
       "<AxesSubplot:xlabel='contactado', ylabel='count'>"
      ]
     },
     "execution_count": 12,
     "metadata": {},
     "output_type": "execute_result"
    },
    {
     "data": {
      "image/png": "[encoded data removed]",
      "text/plain": [
       "<Figure size 432x288 with 1 Axes>"
      ]
     },
     "metadata": {
      "needs_background": "light"
     },
     "output_type": "display_data"
    }
   ],
   "source": [
    "sns.countplot(data=df, x='contactado')"
   ]
  },
  {
   "cell_type": "markdown",
   "id": "21970c07-2fb1-411c-8d97-428356f12bbf",
   "metadata": {},
   "source": [
    "# Transformación de variable target\n",
    "Se transforma la variable target para usarla posteriormente para predicción."
   ]
  },
  {
   "cell_type": "code",
   "execution_count": 13,
   "id": "6c06d389-daf4-462f-8aff-c09da6dacbac",
   "metadata": {},
   "outputs": [],
   "source": [
    "# Transformo la variable target para calcular P-Value\n",
    "def factorize_y(x):\n",
    "    if x == 'no':\n",
    "        return 0\n",
    "    else:\n",
    "        return 1\n",
    "    \n",
    "df['y'] = df.apply(lambda x: factorize_y(x['y']), axis=1)"
   ]
  },
  {
   "cell_type": "code",
   "execution_count": 14,
   "id": "1f19362b-cc5d-4b15-bbb3-365df1518c25",
   "metadata": {
    "tags": []
   },
   "outputs": [
    {
     "data": {
      "text/plain": [
       "<AxesSubplot:xlabel='y', ylabel='count'>"
      ]
     },
     "execution_count": 14,
     "metadata": {},
     "output_type": "execute_result"
    },
    {
     "data": {
      "image/png": "[encoded data removed]",
      "text/plain": [
       "<Figure size 432x288 with 1 Axes>"
      ]
     },
     "metadata": {
      "needs_background": "light"
     },
     "output_type": "display_data"
    }
   ],
   "source": [
    "sns.countplot(data=df, x='y')"
   ]
  },
  {
   "cell_type": "markdown",
   "id": "6c1bba6c-8b31-4393-9e4a-d72e70b4ccd2",
   "metadata": {},
   "source": [
    "# Tratamiento de outliers"
   ]
  },
  {
   "cell_type": "code",
   "execution_count": 15,
   "id": "d49631b7-6e83-40b0-ab95-86b0a7f193f1",
   "metadata": {},
   "outputs": [
    {
     "data": {
      "text/plain": [
       "<AxesSubplot:xlabel='campaign'>"
      ]
     },
     "execution_count": 15,
     "metadata": {},
     "output_type": "execute_result"
    },
    {
     "data": {
      "image/png": "[encoded data removed]",
      "text/plain": [
       "<Figure size 432x288 with 1 Axes>"
      ]
     },
     "metadata": {
      "needs_background": "light"
     },
     "output_type": "display_data"
    }
   ],
   "source": [
    "sns.boxplot(data=df, x='campaign')"
   ]
  },
  {
   "cell_type": "code",
   "execution_count": 16,
   "id": "d7212a43-ce25-44c4-8ce6-996f8e12e84b",
   "metadata": {},
   "outputs": [
    {
     "data": {
      "text/plain": [
       "[Text(0.5, 0, 'cons.conf.idx sin outliers')]"
      ]
     },
     "execution_count": 16,
     "metadata": {},
     "output_type": "execute_result"
    },
    {
     "data": {
      "image/png": "[encoded data removed]",
      "text/plain": [
       "<Figure size 2160x2160 with 10 Axes>"
      ]
     },
     "metadata": {
      "needs_background": "light"
     },
     "output_type": "display_data"
    }
   ],
   "source": [
    "fig, axs = plt.subplots(nrows=5,ncols=2, figsize=(30,30))\n",
    "\n",
    "sns.boxplot(data=df, x='duration', ax=axs[0,0])\n",
    "sns.boxplot(data=df, x='duration', showfliers=False, ax=axs[0,1]).set(xlabel='Duartion sin outliers')\n",
    "\n",
    "sns.boxplot(data=df, x='age', ax=axs[1,0])\n",
    "sns.boxplot(data=df, x='age', showfliers=False, ax=axs[1,1]).set(xlabel='Edad sin outliers')\n",
    "\n",
    "sns.boxplot(data=df, x='campaign', ax=axs[2,0])\n",
    "sns.boxplot(data=df, x='campaign', showfliers=False, ax=axs[2,1]).set(xlabel='Campaign sin outliers')\n",
    "\n",
    "sns.boxplot(data=df, x='previous', ax=axs[3,0])\n",
    "sns.boxplot(data=df, x='previous', showfliers=False, ax=axs[3,1]).set(xlabel='Previous sin outliers')\n",
    "\n",
    "sns.boxplot(data=df, x='cons.conf.idx', ax=axs[4,0])\n",
    "sns.boxplot(data=df, x='cons.conf.idx', showfliers=False, ax=axs[4,1]).set(xlabel='cons.conf.idx sin outliers')"
   ]
  },
  {
   "cell_type": "code",
   "execution_count": 17,
   "id": "e250a3ff-5935-4d43-9bb9-9dbf5ca54fcc",
   "metadata": {},
   "outputs": [
    {
     "data": {
      "text/plain": [
       "(41188, 20)"
      ]
     },
     "execution_count": 17,
     "metadata": {},
     "output_type": "execute_result"
    }
   ],
   "source": [
    "df.shape"
   ]
  },
  {
   "cell_type": "code",
   "execution_count": 18,
   "id": "11c1c032-f29a-47bf-9de7-b8a3f814ef35",
   "metadata": {},
   "outputs": [],
   "source": [
    "from scipy.stats import zscore\n",
    "\n",
    "# Elimacion de unicamente los outliers - df\n",
    "def delete_outliers(df, cols):\n",
    "    df = df.copy()\n",
    "    temp = []\n",
    "    df_clean = df.copy()\n",
    "\n",
    "    for c in cols:\n",
    "        z_scores = zscore(df_clean[c])\n",
    "        abs_z_scores = np.abs(z_scores)\n",
    "        filtered_entries = (abs_z_scores < 3)\n",
    "        row_clean = df_clean[filtered_entries][c]\n",
    "        temp.append([c, len(df_clean[c]), len(row_clean), len(df_clean[c]) - len(row_clean), df_clean[c].isna().sum() ])\n",
    "        df_clean = df_clean[filtered_entries]\n",
    "    temp = pd.DataFrame(temp, columns=[\"name\", \"count_values\", \"without_outliers\", \"count_outliers\", \"nan_count\"])\n",
    "\n",
    "    df_with_nan = df[cols][df[cols].isna().any(axis=1)]\n",
    "\n",
    "    df_clean.merge(df_with_nan)\n",
    "\n",
    "    return temp, df_clean\n",
    "\n",
    "# columnas a analizar y eliminar outliers\n",
    "temp, df = delete_outliers(df, ['duration', 'age', 'cons.conf.idx'] )"
   ]
  },
  {
   "cell_type": "code",
   "execution_count": 19,
   "id": "239671a4-6c87-4511-b4d9-9b0fdc089d13",
   "metadata": {},
   "outputs": [
    {
     "data": {
      "text/html": [
       "<div>\n",
       "<style scoped>\n",
       "    .dataframe tbody tr th:only-of-type {\n",
       "        vertical-align: middle;\n",
       "    }\n",
       "\n",
       "    .dataframe tbody tr th {\n",
       "        vertical-align: top;\n",
       "    }\n",
       "\n",
       "    .dataframe thead th {\n",
       "        text-align: right;\n",
       "    }\n",
       "</style>\n",
       "<table border=\"1\" class=\"dataframe\">\n",
       "  <thead>\n",
       "    <tr style=\"text-align: right;\">\n",
       "      <th></th>\n",
       "      <th>name</th>\n",
       "      <th>count_values</th>\n",
       "      <th>without_outliers</th>\n",
       "      <th>count_outliers</th>\n",
       "      <th>nan_count</th>\n",
       "    </tr>\n",
       "  </thead>\n",
       "  <tbody>\n",
       "    <tr>\n",
       "      <th>0</th>\n",
       "      <td>duration</td>\n",
       "      <td>41188</td>\n",
       "      <td>40327</td>\n",
       "      <td>861</td>\n",
       "      <td>0</td>\n",
       "    </tr>\n",
       "    <tr>\n",
       "      <th>1</th>\n",
       "      <td>age</td>\n",
       "      <td>40327</td>\n",
       "      <td>39963</td>\n",
       "      <td>364</td>\n",
       "      <td>0</td>\n",
       "    </tr>\n",
       "    <tr>\n",
       "      <th>2</th>\n",
       "      <td>cons.conf.idx</td>\n",
       "      <td>39963</td>\n",
       "      <td>39963</td>\n",
       "      <td>0</td>\n",
       "      <td>0</td>\n",
       "    </tr>\n",
       "  </tbody>\n",
       "</table>\n",
       "</div>"
      ],
      "text/plain": [
       "            name  count_values  without_outliers  count_outliers  nan_count\n",
       "0       duration         41188             40327             861          0\n",
       "1            age         40327             39963             364          0\n",
       "2  cons.conf.idx         39963             39963               0          0"
      ]
     },
     "execution_count": 19,
     "metadata": {},
     "output_type": "execute_result"
    }
   ],
   "source": [
    "temp"
   ]
  },
  {
   "cell_type": "code",
   "execution_count": 20,
   "id": "c063bd60-673a-4b9f-9881-1667012ebeb6",
   "metadata": {},
   "outputs": [
    {
     "data": {
      "text/plain": [
       "(39963, 20)"
      ]
     },
     "execution_count": 20,
     "metadata": {},
     "output_type": "execute_result"
    }
   ],
   "source": [
    "df.shape"
   ]
  },
  {
   "cell_type": "markdown",
   "id": "f0293a5d-d36d-4738-bf1e-c5479337acb1",
   "metadata": {},
   "source": [
    "# Dummeo de variables categoricas\n",
    "Se dummean las variables categoricas para poder utilizar el modelo XGBoost, ya que, solamente acepta variables numericas."
   ]
  },
  {
   "cell_type": "code",
   "execution_count": 21,
   "id": "50128d55-2484-4004-9fc4-64732a8947bf",
   "metadata": {},
   "outputs": [],
   "source": [
    "df = pd.get_dummies(df)"
   ]
  },
  {
   "cell_type": "code",
   "execution_count": 22,
   "id": "f264da86-869c-45a7-aa2e-bf0eef0334cb",
   "metadata": {},
   "outputs": [
    {
     "data": {
      "text/html": [
       "<div>\n",
       "<style scoped>\n",
       "    .dataframe tbody tr th:only-of-type {\n",
       "        vertical-align: middle;\n",
       "    }\n",
       "\n",
       "    .dataframe tbody tr th {\n",
       "        vertical-align: top;\n",
       "    }\n",
       "\n",
       "    .dataframe thead th {\n",
       "        text-align: right;\n",
       "    }\n",
       "</style>\n",
       "<table border=\"1\" class=\"dataframe\">\n",
       "  <thead>\n",
       "    <tr style=\"text-align: right;\">\n",
       "      <th></th>\n",
       "      <th>age</th>\n",
       "      <th>duration</th>\n",
       "      <th>campaign</th>\n",
       "      <th>previous</th>\n",
       "      <th>emp.var.rate</th>\n",
       "      <th>cons.price.idx</th>\n",
       "      <th>cons.conf.idx</th>\n",
       "      <th>euribor3m</th>\n",
       "      <th>nr.employed</th>\n",
       "      <th>y</th>\n",
       "      <th>job_admin.</th>\n",
       "      <th>job_blue-collar</th>\n",
       "      <th>job_entrepreneur</th>\n",
       "      <th>job_housemaid</th>\n",
       "      <th>job_management</th>\n",
       "      <th>job_retired</th>\n",
       "      <th>job_self-employed</th>\n",
       "      <th>job_services</th>\n",
       "      <th>job_student</th>\n",
       "      <th>job_technician</th>\n",
       "      <th>job_unemployed</th>\n",
       "      <th>job_unknown</th>\n",
       "      <th>marital_divorced</th>\n",
       "      <th>marital_married</th>\n",
       "      <th>marital_single</th>\n",
       "      <th>...</th>\n",
       "      <th>contact_cellular</th>\n",
       "      <th>contact_telephone</th>\n",
       "      <th>month_apr</th>\n",
       "      <th>month_aug</th>\n",
       "      <th>month_dec</th>\n",
       "      <th>month_jul</th>\n",
       "      <th>month_jun</th>\n",
       "      <th>month_mar</th>\n",
       "      <th>month_may</th>\n",
       "      <th>month_nov</th>\n",
       "      <th>month_oct</th>\n",
       "      <th>month_sep</th>\n",
       "      <th>day_of_week_fri</th>\n",
       "      <th>day_of_week_mon</th>\n",
       "      <th>day_of_week_thu</th>\n",
       "      <th>day_of_week_tue</th>\n",
       "      <th>day_of_week_wed</th>\n",
       "      <th>poutcome_failure</th>\n",
       "      <th>poutcome_nonexistent</th>\n",
       "      <th>poutcome_success</th>\n",
       "      <th>productos_financieros_no</th>\n",
       "      <th>productos_financieros_unknown</th>\n",
       "      <th>productos_financieros_yes</th>\n",
       "      <th>contactado_NO</th>\n",
       "      <th>contactado_SI</th>\n",
       "    </tr>\n",
       "  </thead>\n",
       "  <tbody>\n",
       "    <tr>\n",
       "      <th>0</th>\n",
       "      <td>56</td>\n",
       "      <td>261</td>\n",
       "      <td>1</td>\n",
       "      <td>0</td>\n",
       "      <td>1.1</td>\n",
       "      <td>93.994</td>\n",
       "      <td>-36.4</td>\n",
       "      <td>4.857</td>\n",
       "      <td>5191.0</td>\n",
       "      <td>0</td>\n",
       "      <td>0</td>\n",
       "      <td>0</td>\n",
       "      <td>0</td>\n",
       "      <td>1</td>\n",
       "      <td>0</td>\n",
       "      <td>0</td>\n",
       "      <td>0</td>\n",
       "      <td>0</td>\n",
       "      <td>0</td>\n",
       "      <td>0</td>\n",
       "      <td>0</td>\n",
       "      <td>0</td>\n",
       "      <td>0</td>\n",
       "      <td>1</td>\n",
       "      <td>0</td>\n",
       "      <td>...</td>\n",
       "      <td>0</td>\n",
       "      <td>1</td>\n",
       "      <td>0</td>\n",
       "      <td>0</td>\n",
       "      <td>0</td>\n",
       "      <td>0</td>\n",
       "      <td>0</td>\n",
       "      <td>0</td>\n",
       "      <td>1</td>\n",
       "      <td>0</td>\n",
       "      <td>0</td>\n",
       "      <td>0</td>\n",
       "      <td>0</td>\n",
       "      <td>1</td>\n",
       "      <td>0</td>\n",
       "      <td>0</td>\n",
       "      <td>0</td>\n",
       "      <td>0</td>\n",
       "      <td>1</td>\n",
       "      <td>0</td>\n",
       "      <td>1</td>\n",
       "      <td>0</td>\n",
       "      <td>0</td>\n",
       "      <td>1</td>\n",
       "      <td>0</td>\n",
       "    </tr>\n",
       "    <tr>\n",
       "      <th>1</th>\n",
       "      <td>57</td>\n",
       "      <td>149</td>\n",
       "      <td>1</td>\n",
       "      <td>0</td>\n",
       "      <td>1.1</td>\n",
       "      <td>93.994</td>\n",
       "      <td>-36.4</td>\n",
       "      <td>4.857</td>\n",
       "      <td>5191.0</td>\n",
       "      <td>0</td>\n",
       "      <td>0</td>\n",
       "      <td>0</td>\n",
       "      <td>0</td>\n",
       "      <td>0</td>\n",
       "      <td>0</td>\n",
       "      <td>0</td>\n",
       "      <td>0</td>\n",
       "      <td>1</td>\n",
       "      <td>0</td>\n",
       "      <td>0</td>\n",
       "      <td>0</td>\n",
       "      <td>0</td>\n",
       "      <td>0</td>\n",
       "      <td>1</td>\n",
       "      <td>0</td>\n",
       "      <td>...</td>\n",
       "      <td>0</td>\n",
       "      <td>1</td>\n",
       "      <td>0</td>\n",
       "      <td>0</td>\n",
       "      <td>0</td>\n",
       "      <td>0</td>\n",
       "      <td>0</td>\n",
       "      <td>0</td>\n",
       "      <td>1</td>\n",
       "      <td>0</td>\n",
       "      <td>0</td>\n",
       "      <td>0</td>\n",
       "      <td>0</td>\n",
       "      <td>1</td>\n",
       "      <td>0</td>\n",
       "      <td>0</td>\n",
       "      <td>0</td>\n",
       "      <td>0</td>\n",
       "      <td>1</td>\n",
       "      <td>0</td>\n",
       "      <td>1</td>\n",
       "      <td>0</td>\n",
       "      <td>0</td>\n",
       "      <td>1</td>\n",
       "      <td>0</td>\n",
       "    </tr>\n",
       "    <tr>\n",
       "      <th>2</th>\n",
       "      <td>37</td>\n",
       "      <td>226</td>\n",
       "      <td>1</td>\n",
       "      <td>0</td>\n",
       "      <td>1.1</td>\n",
       "      <td>93.994</td>\n",
       "      <td>-36.4</td>\n",
       "      <td>4.857</td>\n",
       "      <td>5191.0</td>\n",
       "      <td>0</td>\n",
       "      <td>0</td>\n",
       "      <td>0</td>\n",
       "      <td>0</td>\n",
       "      <td>0</td>\n",
       "      <td>0</td>\n",
       "      <td>0</td>\n",
       "      <td>0</td>\n",
       "      <td>1</td>\n",
       "      <td>0</td>\n",
       "      <td>0</td>\n",
       "      <td>0</td>\n",
       "      <td>0</td>\n",
       "      <td>0</td>\n",
       "      <td>1</td>\n",
       "      <td>0</td>\n",
       "      <td>...</td>\n",
       "      <td>0</td>\n",
       "      <td>1</td>\n",
       "      <td>0</td>\n",
       "      <td>0</td>\n",
       "      <td>0</td>\n",
       "      <td>0</td>\n",
       "      <td>0</td>\n",
       "      <td>0</td>\n",
       "      <td>1</td>\n",
       "      <td>0</td>\n",
       "      <td>0</td>\n",
       "      <td>0</td>\n",
       "      <td>0</td>\n",
       "      <td>1</td>\n",
       "      <td>0</td>\n",
       "      <td>0</td>\n",
       "      <td>0</td>\n",
       "      <td>0</td>\n",
       "      <td>1</td>\n",
       "      <td>0</td>\n",
       "      <td>0</td>\n",
       "      <td>0</td>\n",
       "      <td>1</td>\n",
       "      <td>1</td>\n",
       "      <td>0</td>\n",
       "    </tr>\n",
       "    <tr>\n",
       "      <th>3</th>\n",
       "      <td>40</td>\n",
       "      <td>151</td>\n",
       "      <td>1</td>\n",
       "      <td>0</td>\n",
       "      <td>1.1</td>\n",
       "      <td>93.994</td>\n",
       "      <td>-36.4</td>\n",
       "      <td>4.857</td>\n",
       "      <td>5191.0</td>\n",
       "      <td>0</td>\n",
       "      <td>1</td>\n",
       "      <td>0</td>\n",
       "      <td>0</td>\n",
       "      <td>0</td>\n",
       "      <td>0</td>\n",
       "      <td>0</td>\n",
       "      <td>0</td>\n",
       "      <td>0</td>\n",
       "      <td>0</td>\n",
       "      <td>0</td>\n",
       "      <td>0</td>\n",
       "      <td>0</td>\n",
       "      <td>0</td>\n",
       "      <td>1</td>\n",
       "      <td>0</td>\n",
       "      <td>...</td>\n",
       "      <td>0</td>\n",
       "      <td>1</td>\n",
       "      <td>0</td>\n",
       "      <td>0</td>\n",
       "      <td>0</td>\n",
       "      <td>0</td>\n",
       "      <td>0</td>\n",
       "      <td>0</td>\n",
       "      <td>1</td>\n",
       "      <td>0</td>\n",
       "      <td>0</td>\n",
       "      <td>0</td>\n",
       "      <td>0</td>\n",
       "      <td>1</td>\n",
       "      <td>0</td>\n",
       "      <td>0</td>\n",
       "      <td>0</td>\n",
       "      <td>0</td>\n",
       "      <td>1</td>\n",
       "      <td>0</td>\n",
       "      <td>1</td>\n",
       "      <td>0</td>\n",
       "      <td>0</td>\n",
       "      <td>1</td>\n",
       "      <td>0</td>\n",
       "    </tr>\n",
       "    <tr>\n",
       "      <th>4</th>\n",
       "      <td>56</td>\n",
       "      <td>307</td>\n",
       "      <td>1</td>\n",
       "      <td>0</td>\n",
       "      <td>1.1</td>\n",
       "      <td>93.994</td>\n",
       "      <td>-36.4</td>\n",
       "      <td>4.857</td>\n",
       "      <td>5191.0</td>\n",
       "      <td>0</td>\n",
       "      <td>0</td>\n",
       "      <td>0</td>\n",
       "      <td>0</td>\n",
       "      <td>0</td>\n",
       "      <td>0</td>\n",
       "      <td>0</td>\n",
       "      <td>0</td>\n",
       "      <td>1</td>\n",
       "      <td>0</td>\n",
       "      <td>0</td>\n",
       "      <td>0</td>\n",
       "      <td>0</td>\n",
       "      <td>0</td>\n",
       "      <td>1</td>\n",
       "      <td>0</td>\n",
       "      <td>...</td>\n",
       "      <td>0</td>\n",
       "      <td>1</td>\n",
       "      <td>0</td>\n",
       "      <td>0</td>\n",
       "      <td>0</td>\n",
       "      <td>0</td>\n",
       "      <td>0</td>\n",
       "      <td>0</td>\n",
       "      <td>1</td>\n",
       "      <td>0</td>\n",
       "      <td>0</td>\n",
       "      <td>0</td>\n",
       "      <td>0</td>\n",
       "      <td>1</td>\n",
       "      <td>0</td>\n",
       "      <td>0</td>\n",
       "      <td>0</td>\n",
       "      <td>0</td>\n",
       "      <td>1</td>\n",
       "      <td>0</td>\n",
       "      <td>0</td>\n",
       "      <td>0</td>\n",
       "      <td>1</td>\n",
       "      <td>1</td>\n",
       "      <td>0</td>\n",
       "    </tr>\n",
       "  </tbody>\n",
       "</table>\n",
       "<p>5 rows × 60 columns</p>\n",
       "</div>"
      ],
      "text/plain": [
       "   age  duration  campaign  previous  emp.var.rate  cons.price.idx  \\\n",
       "0   56       261         1         0           1.1          93.994   \n",
       "1   57       149         1         0           1.1          93.994   \n",
       "2   37       226         1         0           1.1          93.994   \n",
       "3   40       151         1         0           1.1          93.994   \n",
       "4   56       307         1         0           1.1          93.994   \n",
       "\n",
       "   cons.conf.idx  euribor3m  nr.employed  y  job_admin.  job_blue-collar  \\\n",
       "0          -36.4      4.857       5191.0  0           0                0   \n",
       "1          -36.4      4.857       5191.0  0           0                0   \n",
       "2          -36.4      4.857       5191.0  0           0                0   \n",
       "3          -36.4      4.857       5191.0  0           1                0   \n",
       "4          -36.4      4.857       5191.0  0           0                0   \n",
       "\n",
       "   job_entrepreneur  job_housemaid  job_management  job_retired  \\\n",
       "0                 0              1               0            0   \n",
       "1                 0              0               0            0   \n",
       "2                 0              0               0            0   \n",
       "3                 0              0               0            0   \n",
       "4                 0              0               0            0   \n",
       "\n",
       "   job_self-employed  job_services  job_student  job_technician  \\\n",
       "0                  0             0            0               0   \n",
       "1                  0             1            0               0   \n",
       "2                  0             1            0               0   \n",
       "3                  0             0            0               0   \n",
       "4                  0             1            0               0   \n",
       "\n",
       "   job_unemployed  job_unknown  marital_divorced  marital_married  \\\n",
       "0               0            0                 0                1   \n",
       "1               0            0                 0                1   \n",
       "2               0            0                 0                1   \n",
       "3               0            0                 0                1   \n",
       "4               0            0                 0                1   \n",
       "\n",
       "   marital_single  ...  contact_cellular  contact_telephone  month_apr  \\\n",
       "0               0  ...                 0                  1          0   \n",
       "1               0  ...                 0                  1          0   \n",
       "2               0  ...                 0                  1          0   \n",
       "3               0  ...                 0                  1          0   \n",
       "4               0  ...                 0                  1          0   \n",
       "\n",
       "   month_aug  month_dec  month_jul  month_jun  month_mar  month_may  \\\n",
       "0          0          0          0          0          0          1   \n",
       "1          0          0          0          0          0          1   \n",
       "2          0          0          0          0          0          1   \n",
       "3          0          0          0          0          0          1   \n",
       "4          0          0          0          0          0          1   \n",
       "\n",
       "   month_nov  month_oct  month_sep  day_of_week_fri  day_of_week_mon  \\\n",
       "0          0          0          0                0                1   \n",
       "1          0          0          0                0                1   \n",
       "2          0          0          0                0                1   \n",
       "3          0          0          0                0                1   \n",
       "4          0          0          0                0                1   \n",
       "\n",
       "   day_of_week_thu  day_of_week_tue  day_of_week_wed  poutcome_failure  \\\n",
       "0                0                0                0                 0   \n",
       "1                0                0                0                 0   \n",
       "2                0                0                0                 0   \n",
       "3                0                0                0                 0   \n",
       "4                0                0                0                 0   \n",
       "\n",
       "   poutcome_nonexistent  poutcome_success  productos_financieros_no  \\\n",
       "0                     1                 0                         1   \n",
       "1                     1                 0                         1   \n",
       "2                     1                 0                         0   \n",
       "3                     1                 0                         1   \n",
       "4                     1                 0                         0   \n",
       "\n",
       "   productos_financieros_unknown  productos_financieros_yes  contactado_NO  \\\n",
       "0                              0                          0              1   \n",
       "1                              0                          0              1   \n",
       "2                              0                          1              1   \n",
       "3                              0                          0              1   \n",
       "4                              0                          1              1   \n",
       "\n",
       "   contactado_SI  \n",
       "0              0  \n",
       "1              0  \n",
       "2              0  \n",
       "3              0  \n",
       "4              0  \n",
       "\n",
       "[5 rows x 60 columns]"
      ]
     },
     "execution_count": 22,
     "metadata": {},
     "output_type": "execute_result"
    }
   ],
   "source": [
    "df.head()"
   ]
  },
  {
   "cell_type": "code",
   "execution_count": 23,
   "id": "cc998574-bfe0-4711-8dc9-34518f9c3540",
   "metadata": {},
   "outputs": [
    {
     "name": "stdout",
     "output_type": "stream",
     "text": [
      "<class 'pandas.core.frame.DataFrame'>\n",
      "Int64Index: 39963 entries, 0 to 41186\n",
      "Data columns (total 60 columns):\n",
      " #   Column                         Non-Null Count  Dtype  \n",
      "---  ------                         --------------  -----  \n",
      " 0   age                            39963 non-null  int64  \n",
      " 1   duration                       39963 non-null  int64  \n",
      " 2   campaign                       39963 non-null  int64  \n",
      " 3   previous                       39963 non-null  int64  \n",
      " 4   emp.var.rate                   39963 non-null  float64\n",
      " 5   cons.price.idx                 39963 non-null  float64\n",
      " 6   cons.conf.idx                  39963 non-null  float64\n",
      " 7   euribor3m                      39963 non-null  float64\n",
      " 8   nr.employed                    39963 non-null  float64\n",
      " 9   y                              39963 non-null  int64  \n",
      " 10  job_admin.                     39963 non-null  uint8  \n",
      " 11  job_blue-collar                39963 non-null  uint8  \n",
      " 12  job_entrepreneur               39963 non-null  uint8  \n",
      " 13  job_housemaid                  39963 non-null  uint8  \n",
      " 14  job_management                 39963 non-null  uint8  \n",
      " 15  job_retired                    39963 non-null  uint8  \n",
      " 16  job_self-employed              39963 non-null  uint8  \n",
      " 17  job_services                   39963 non-null  uint8  \n",
      " 18  job_student                    39963 non-null  uint8  \n",
      " 19  job_technician                 39963 non-null  uint8  \n",
      " 20  job_unemployed                 39963 non-null  uint8  \n",
      " 21  job_unknown                    39963 non-null  uint8  \n",
      " 22  marital_divorced               39963 non-null  uint8  \n",
      " 23  marital_married                39963 non-null  uint8  \n",
      " 24  marital_single                 39963 non-null  uint8  \n",
      " 25  marital_unknown                39963 non-null  uint8  \n",
      " 26  education_desconocido          39963 non-null  uint8  \n",
      " 27  education_ninguno              39963 non-null  uint8  \n",
      " 28  education_primario             39963 non-null  uint8  \n",
      " 29  education_secundario           39963 non-null  uint8  \n",
      " 30  education_terciario            39963 non-null  uint8  \n",
      " 31  education_universitario        39963 non-null  uint8  \n",
      " 32  default_no                     39963 non-null  uint8  \n",
      " 33  default_unknown                39963 non-null  uint8  \n",
      " 34  default_yes                    39963 non-null  uint8  \n",
      " 35  contact_cellular               39963 non-null  uint8  \n",
      " 36  contact_telephone              39963 non-null  uint8  \n",
      " 37  month_apr                      39963 non-null  uint8  \n",
      " 38  month_aug                      39963 non-null  uint8  \n",
      " 39  month_dec                      39963 non-null  uint8  \n",
      " 40  month_jul                      39963 non-null  uint8  \n",
      " 41  month_jun                      39963 non-null  uint8  \n",
      " 42  month_mar                      39963 non-null  uint8  \n",
      " 43  month_may                      39963 non-null  uint8  \n",
      " 44  month_nov                      39963 non-null  uint8  \n",
      " 45  month_oct                      39963 non-null  uint8  \n",
      " 46  month_sep                      39963 non-null  uint8  \n",
      " 47  day_of_week_fri                39963 non-null  uint8  \n",
      " 48  day_of_week_mon                39963 non-null  uint8  \n",
      " 49  day_of_week_thu                39963 non-null  uint8  \n",
      " 50  day_of_week_tue                39963 non-null  uint8  \n",
      " 51  day_of_week_wed                39963 non-null  uint8  \n",
      " 52  poutcome_failure               39963 non-null  uint8  \n",
      " 53  poutcome_nonexistent           39963 non-null  uint8  \n",
      " 54  poutcome_success               39963 non-null  uint8  \n",
      " 55  productos_financieros_no       39963 non-null  uint8  \n",
      " 56  productos_financieros_unknown  39963 non-null  uint8  \n",
      " 57  productos_financieros_yes      39963 non-null  uint8  \n",
      " 58  contactado_NO                  39963 non-null  uint8  \n",
      " 59  contactado_SI                  39963 non-null  uint8  \n",
      "dtypes: float64(5), int64(5), uint8(50)\n",
      "memory usage: 5.3 MB\n"
     ]
    }
   ],
   "source": [
    "df.info()"
   ]
  },
  {
   "cell_type": "markdown",
   "id": "c7f6487c-463f-4d95-9776-df833e296c95",
   "metadata": {},
   "source": [
    "# Desbalanceo de clases"
   ]
  },
  {
   "cell_type": "code",
   "execution_count": 24,
   "id": "c9b55bf3-ca23-4f58-bb92-a06223d4587e",
   "metadata": {},
   "outputs": [
    {
     "data": {
      "text/plain": [
       "<AxesSubplot:xlabel='y', ylabel='count'>"
      ]
     },
     "execution_count": 24,
     "metadata": {},
     "output_type": "execute_result"
    },
    {
     "data": {
      "image/png": "[encoded data removed]",
      "text/plain": [
       "<Figure size 432x288 with 1 Axes>"
      ]
     },
     "metadata": {
      "needs_background": "light"
     },
     "output_type": "display_data"
    }
   ],
   "source": [
    "sns.countplot(data=df, x='y')"
   ]
  },
  {
   "cell_type": "markdown",
   "id": "7d12a0ff-aebe-42e6-b0b7-388bea0d01ac",
   "metadata": {},
   "source": [
    "## Usar SMOTETomek para desbalanceo de clases\n",
    "\n",
    "SMOTE (Synthetic Minority Oversampling Technique) es una tecnica de oversampling y crea muestras sintéticas nuevas de la clase minoritaria. Tomek es usado para quitar las muestras que se encuentran cerca de la frontera de las dos clases, y con ello se puede aumentar la separacion entre las dos clases."
   ]
  },
  {
   "cell_type": "code",
   "execution_count": 25,
   "id": "3a82b510-a49c-4618-96aa-2af25fbe57cd",
   "metadata": {},
   "outputs": [],
   "source": [
    "# Dividir el dataset en X e y\n",
    "y = df['y'].copy()\n",
    "X = df.drop('y', axis=1).copy()"
   ]
  },
  {
   "cell_type": "code",
   "execution_count": 26,
   "id": "26de9984-e400-46ef-8810-fda5073d2111",
   "metadata": {},
   "outputs": [],
   "source": [
    "from imblearn.combine import SMOTETomek\n",
    "\n",
    "smt = SMOTETomek(random_state=42)\n",
    "X, y = smt.fit_resample(X,y)"
   ]
  },
  {
   "cell_type": "code",
   "execution_count": 27,
   "id": "21695573-b496-40ee-bacf-a827e60702d9",
   "metadata": {},
   "outputs": [
    {
     "data": {
      "text/plain": [
       "<AxesSubplot:xlabel='y', ylabel='count'>"
      ]
     },
     "execution_count": 27,
     "metadata": {},
     "output_type": "execute_result"
    },
    {
     "data": {
      "image/png": "[encoded data removed]",
      "text/plain": [
       "<Figure size 432x288 with 1 Axes>"
      ]
     },
     "metadata": {
      "needs_background": "light"
     },
     "output_type": "display_data"
    }
   ],
   "source": [
    "X['y'] = y\n",
    "sns.countplot(data=X, x='y')"
   ]
  },
  {
   "cell_type": "code",
   "execution_count": 30,
   "id": "9df9b473-dcc6-4e01-b84d-e98ae7fa0aab",
   "metadata": {},
   "outputs": [
    {
     "data": {
      "text/plain": [
       "(71680, 60)"
      ]
     },
     "execution_count": 30,
     "metadata": {},
     "output_type": "execute_result"
    }
   ],
   "source": [
    "X.shape"
   ]
  },
  {
   "cell_type": "markdown",
   "id": "c0442375-8416-4b49-89ea-ccbc129091a7",
   "metadata": {},
   "source": [
    "# Guardado de archivo"
   ]
  },
  {
   "cell_type": "code",
   "execution_count": 31,
   "id": "ed2bcd7a-e440-4731-9221-5f5c7aeb8dd2",
   "metadata": {},
   "outputs": [],
   "source": [
    "# Guardamos los datos para empezar a modelar\n",
    "X.to_csv('../data_preprocessed.txt', index=None, sep='|')"
   ]
  }
 ],
 "metadata": {
  "kernelspec": {
   "display_name": "Python 3",
   "language": "python",
   "name": "python3"
  },
  "language_info": {
   "codemirror_mode": {
    "name": "ipython",
    "version": 3
   },
   "file_extension": ".py",
   "mimetype": "text/x-python",
   "name": "python",
   "nbconvert_exporter": "python",
   "pygments_lexer": "ipython3",
   "version": "3.9.5"
  }
 },
 "nbformat": 4,
 "nbformat_minor": 5
}
